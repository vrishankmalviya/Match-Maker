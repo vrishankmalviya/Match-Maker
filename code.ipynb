{
 "cells": [
  {
   "cell_type": "code",
   "execution_count": 20,
   "metadata": {},
   "outputs": [
    {
     "name": "stdout",
     "output_type": "stream",
     "text": [
      "Collecting plotly\n",
      "  Downloading plotly-5.19.0-py3-none-any.whl.metadata (7.0 kB)\n",
      "Collecting tenacity>=6.2.0 (from plotly)\n",
      "  Downloading tenacity-8.2.3-py3-none-any.whl.metadata (1.0 kB)\n",
      "Requirement already satisfied: packaging in c:\\users\\hp\\appdata\\roaming\\python\\python311\\site-packages (from plotly) (23.1)\n",
      "Downloading plotly-5.19.0-py3-none-any.whl (15.7 MB)\n",
      "   ---------------------------------------- 0.0/15.7 MB ? eta -:--:--\n",
      "   ---------------------------------------- 0.0/15.7 MB ? eta -:--:--\n",
      "   ---------------------------------------- 0.1/15.7 MB 2.2 MB/s eta 0:00:08\n",
      "   - -------------------------------------- 0.4/15.7 MB 3.1 MB/s eta 0:00:05\n",
      "   -- ------------------------------------- 0.9/15.7 MB 5.2 MB/s eta 0:00:03\n",
      "   -- ------------------------------------- 1.1/15.7 MB 5.0 MB/s eta 0:00:03\n",
      "   --- ------------------------------------ 1.3/15.7 MB 4.8 MB/s eta 0:00:04\n",
      "   --- ------------------------------------ 1.3/15.7 MB 4.7 MB/s eta 0:00:04\n",
      "   --- ------------------------------------ 1.3/15.7 MB 4.7 MB/s eta 0:00:04\n",
      "   --- ------------------------------------ 1.3/15.7 MB 4.7 MB/s eta 0:00:04\n",
      "   ---- ----------------------------------- 1.9/15.7 MB 4.4 MB/s eta 0:00:04\n",
      "   ----- ---------------------------------- 2.2/15.7 MB 4.5 MB/s eta 0:00:04\n",
      "   ------ --------------------------------- 2.4/15.7 MB 4.4 MB/s eta 0:00:04\n",
      "   ------ --------------------------------- 2.5/15.7 MB 4.4 MB/s eta 0:00:03\n",
      "   ------ --------------------------------- 2.6/15.7 MB 4.3 MB/s eta 0:00:04\n",
      "   ------ --------------------------------- 2.6/15.7 MB 4.3 MB/s eta 0:00:04\n",
      "   ------ --------------------------------- 2.6/15.7 MB 4.3 MB/s eta 0:00:04\n",
      "   -------- ------------------------------- 3.3/15.7 MB 4.2 MB/s eta 0:00:03\n",
      "   -------- ------------------------------- 3.5/15.7 MB 4.3 MB/s eta 0:00:03\n",
      "   --------- ------------------------------ 3.6/15.7 MB 4.2 MB/s eta 0:00:03\n",
      "   --------- ------------------------------ 3.8/15.7 MB 4.2 MB/s eta 0:00:03\n",
      "   --------- ------------------------------ 3.8/15.7 MB 4.2 MB/s eta 0:00:03\n",
      "   --------- ------------------------------ 3.8/15.7 MB 4.2 MB/s eta 0:00:03\n",
      "   ---------- ----------------------------- 4.0/15.7 MB 3.8 MB/s eta 0:00:04\n",
      "   ----------- ---------------------------- 4.3/15.7 MB 4.1 MB/s eta 0:00:03\n",
      "   ------------ --------------------------- 4.8/15.7 MB 4.2 MB/s eta 0:00:03\n",
      "   ------------ --------------------------- 5.0/15.7 MB 4.2 MB/s eta 0:00:03\n",
      "   ------------- -------------------------- 5.1/15.7 MB 4.1 MB/s eta 0:00:03\n",
      "   ------------- -------------------------- 5.3/15.7 MB 4.1 MB/s eta 0:00:03\n",
      "   -------------- ------------------------- 5.5/15.7 MB 4.1 MB/s eta 0:00:03\n",
      "   -------------- ------------------------- 5.7/15.7 MB 4.1 MB/s eta 0:00:03\n",
      "   -------------- ------------------------- 5.9/15.7 MB 4.1 MB/s eta 0:00:03\n",
      "   --------------- ------------------------ 6.1/15.7 MB 4.1 MB/s eta 0:00:03\n",
      "   --------------- ------------------------ 6.2/15.7 MB 4.1 MB/s eta 0:00:03\n",
      "   ---------------- ----------------------- 6.4/15.7 MB 4.1 MB/s eta 0:00:03\n",
      "   ---------------- ----------------------- 6.6/15.7 MB 4.1 MB/s eta 0:00:03\n",
      "   ----------------- ---------------------- 6.8/15.7 MB 4.1 MB/s eta 0:00:03\n",
      "   ----------------- ---------------------- 7.0/15.7 MB 4.1 MB/s eta 0:00:03\n",
      "   ------------------ --------------------- 7.1/15.7 MB 4.1 MB/s eta 0:00:03\n",
      "   ------------------ --------------------- 7.3/15.7 MB 4.1 MB/s eta 0:00:03\n",
      "   ------------------- -------------------- 7.5/15.7 MB 4.1 MB/s eta 0:00:03\n",
      "   ------------------- -------------------- 7.7/15.7 MB 4.1 MB/s eta 0:00:02\n",
      "   -------------------- ------------------- 7.9/15.7 MB 4.1 MB/s eta 0:00:02\n",
      "   -------------------- ------------------- 8.1/15.7 MB 4.1 MB/s eta 0:00:02\n",
      "   --------------------- ------------------ 8.3/15.7 MB 4.1 MB/s eta 0:00:02\n",
      "   --------------------- ------------------ 8.5/15.7 MB 4.0 MB/s eta 0:00:02\n",
      "   ---------------------- ----------------- 8.7/15.7 MB 4.1 MB/s eta 0:00:02\n",
      "   ---------------------- ----------------- 8.9/15.7 MB 4.0 MB/s eta 0:00:02\n",
      "   ----------------------- ---------------- 9.1/15.7 MB 4.0 MB/s eta 0:00:02\n",
      "   ----------------------- ---------------- 9.2/15.7 MB 4.0 MB/s eta 0:00:02\n",
      "   ------------------------ --------------- 9.4/15.7 MB 4.0 MB/s eta 0:00:02\n",
      "   ------------------------ --------------- 9.6/15.7 MB 4.0 MB/s eta 0:00:02\n",
      "   ------------------------ --------------- 9.8/15.7 MB 4.0 MB/s eta 0:00:02\n",
      "   ------------------------- -------------- 10.0/15.7 MB 4.0 MB/s eta 0:00:02\n",
      "   ------------------------- -------------- 10.1/15.7 MB 4.0 MB/s eta 0:00:02\n",
      "   -------------------------- ------------- 10.3/15.7 MB 4.1 MB/s eta 0:00:02\n",
      "   -------------------------- ------------- 10.5/15.7 MB 4.1 MB/s eta 0:00:02\n",
      "   --------------------------- ------------ 10.7/15.7 MB 4.0 MB/s eta 0:00:02\n",
      "   --------------------------- ------------ 10.9/15.7 MB 4.0 MB/s eta 0:00:02\n",
      "   ---------------------------- ----------- 11.1/15.7 MB 3.9 MB/s eta 0:00:02\n",
      "   ---------------------------- ----------- 11.3/15.7 MB 3.9 MB/s eta 0:00:02\n",
      "   ----------------------------- ---------- 11.4/15.7 MB 3.9 MB/s eta 0:00:02\n",
      "   ----------------------------- ---------- 11.6/15.7 MB 4.1 MB/s eta 0:00:01\n",
      "   ------------------------------ --------- 11.8/15.7 MB 4.0 MB/s eta 0:00:01\n",
      "   ------------------------------ --------- 12.0/15.7 MB 4.0 MB/s eta 0:00:01\n",
      "   ------------------------------- -------- 12.2/15.7 MB 4.0 MB/s eta 0:00:01\n",
      "   ------------------------------- -------- 12.3/15.7 MB 3.9 MB/s eta 0:00:01\n",
      "   ------------------------------- -------- 12.5/15.7 MB 3.9 MB/s eta 0:00:01\n",
      "   -------------------------------- ------- 12.7/15.7 MB 3.9 MB/s eta 0:00:01\n",
      "   -------------------------------- ------- 12.9/15.7 MB 4.1 MB/s eta 0:00:01\n",
      "   --------------------------------- ------ 13.1/15.7 MB 4.0 MB/s eta 0:00:01\n",
      "   --------------------------------- ------ 13.3/15.7 MB 4.0 MB/s eta 0:00:01\n",
      "   ---------------------------------- ----- 13.5/15.7 MB 3.9 MB/s eta 0:00:01\n",
      "   ---------------------------------- ----- 13.6/15.7 MB 3.9 MB/s eta 0:00:01\n",
      "   ----------------------------------- ---- 13.8/15.7 MB 3.9 MB/s eta 0:00:01\n",
      "   ----------------------------------- ---- 14.0/15.7 MB 3.9 MB/s eta 0:00:01\n",
      "   ------------------------------------ --- 14.2/15.7 MB 4.1 MB/s eta 0:00:01\n",
      "   ------------------------------------ --- 14.4/15.7 MB 4.1 MB/s eta 0:00:01\n",
      "   ------------------------------------- -- 14.6/15.7 MB 4.1 MB/s eta 0:00:01\n",
      "   ------------------------------------- -- 14.7/15.7 MB 4.0 MB/s eta 0:00:01\n",
      "   -------------------------------------- - 14.9/15.7 MB 3.9 MB/s eta 0:00:01\n",
      "   -------------------------------------- - 15.1/15.7 MB 3.9 MB/s eta 0:00:01\n",
      "   -------------------------------------- - 15.3/15.7 MB 3.9 MB/s eta 0:00:01\n",
      "   ---------------------------------------  15.5/15.7 MB 3.9 MB/s eta 0:00:01\n",
      "   ---------------------------------------  15.7/15.7 MB 3.9 MB/s eta 0:00:01\n",
      "   ---------------------------------------  15.7/15.7 MB 3.9 MB/s eta 0:00:01\n",
      "   ---------------------------------------- 15.7/15.7 MB 3.8 MB/s eta 0:00:00\n",
      "Downloading tenacity-8.2.3-py3-none-any.whl (24 kB)\n",
      "Installing collected packages: tenacity, plotly\n",
      "Successfully installed plotly-5.19.0 tenacity-8.2.3\n"
     ]
    }
   ],
   "source": [
    "! pip install plotly\n"
   ]
  },
  {
   "cell_type": "code",
   "execution_count": 2,
   "metadata": {},
   "outputs": [],
   "source": [
    "import pandas as pd \n",
    "import matplotlib.pyplot as plt\n",
    "import numpy as np\n",
    "import plotly.express as plx"
   ]
  },
  {
   "cell_type": "code",
   "execution_count": 12,
   "metadata": {},
   "outputs": [
    {
     "data": {
      "text/html": [
       "<div>\n",
       "<style scoped>\n",
       "    .dataframe tbody tr th:only-of-type {\n",
       "        vertical-align: middle;\n",
       "    }\n",
       "\n",
       "    .dataframe tbody tr th {\n",
       "        vertical-align: top;\n",
       "    }\n",
       "\n",
       "    .dataframe thead th {\n",
       "        text-align: right;\n",
       "    }\n",
       "</style>\n",
       "<table border=\"1\" class=\"dataframe\">\n",
       "  <thead>\n",
       "    <tr style=\"text-align: right;\">\n",
       "      <th></th>\n",
       "      <th>User ID</th>\n",
       "      <th>Age</th>\n",
       "      <th>Gender</th>\n",
       "      <th>Height</th>\n",
       "      <th>Interests</th>\n",
       "      <th>Looking For</th>\n",
       "      <th>Children</th>\n",
       "      <th>Education Level</th>\n",
       "      <th>Occupation</th>\n",
       "      <th>Swiping History</th>\n",
       "      <th>Frequency of Usage</th>\n",
       "    </tr>\n",
       "  </thead>\n",
       "  <tbody>\n",
       "    <tr>\n",
       "      <th>0</th>\n",
       "      <td>1</td>\n",
       "      <td>30</td>\n",
       "      <td>Male</td>\n",
       "      <td>5.240385</td>\n",
       "      <td>['Sports', 'Cooking', 'Hiking', 'Music', 'Movi...</td>\n",
       "      <td>Casual Dating</td>\n",
       "      <td>No</td>\n",
       "      <td>High School</td>\n",
       "      <td>Student</td>\n",
       "      <td>96</td>\n",
       "      <td>Weekly</td>\n",
       "    </tr>\n",
       "    <tr>\n",
       "      <th>1</th>\n",
       "      <td>2</td>\n",
       "      <td>27</td>\n",
       "      <td>Female</td>\n",
       "      <td>4.937625</td>\n",
       "      <td>['Sports', 'Reading']</td>\n",
       "      <td>Friendship</td>\n",
       "      <td>Yes</td>\n",
       "      <td>Master's Degree</td>\n",
       "      <td>Artist</td>\n",
       "      <td>96</td>\n",
       "      <td>Monthly</td>\n",
       "    </tr>\n",
       "    <tr>\n",
       "      <th>2</th>\n",
       "      <td>3</td>\n",
       "      <td>29</td>\n",
       "      <td>Female</td>\n",
       "      <td>5.806296</td>\n",
       "      <td>['Sports']</td>\n",
       "      <td>Casual Dating</td>\n",
       "      <td>No</td>\n",
       "      <td>Bachelor's Degree</td>\n",
       "      <td>Social Media Influencer</td>\n",
       "      <td>64</td>\n",
       "      <td>Daily</td>\n",
       "    </tr>\n",
       "    <tr>\n",
       "      <th>3</th>\n",
       "      <td>4</td>\n",
       "      <td>29</td>\n",
       "      <td>Female</td>\n",
       "      <td>5.101402</td>\n",
       "      <td>['Reading']</td>\n",
       "      <td>Marriage</td>\n",
       "      <td>No</td>\n",
       "      <td>Ph.D.</td>\n",
       "      <td>Doctor</td>\n",
       "      <td>67</td>\n",
       "      <td>Daily</td>\n",
       "    </tr>\n",
       "    <tr>\n",
       "      <th>4</th>\n",
       "      <td>5</td>\n",
       "      <td>32</td>\n",
       "      <td>Male</td>\n",
       "      <td>5.986670</td>\n",
       "      <td>['Sports', 'Hiking', 'Music', 'Movies', 'Readi...</td>\n",
       "      <td>Long-term Relationship</td>\n",
       "      <td>Yes</td>\n",
       "      <td>Ph.D.</td>\n",
       "      <td>Engineer</td>\n",
       "      <td>93</td>\n",
       "      <td>Monthly</td>\n",
       "    </tr>\n",
       "    <tr>\n",
       "      <th>5</th>\n",
       "      <td>6</td>\n",
       "      <td>25</td>\n",
       "      <td>Female</td>\n",
       "      <td>5.192045</td>\n",
       "      <td>['Sports', 'Cooking', 'Movies', 'Music', 'Trav...</td>\n",
       "      <td>Marriage</td>\n",
       "      <td>Yes</td>\n",
       "      <td>Master's Degree</td>\n",
       "      <td>Engineer</td>\n",
       "      <td>38</td>\n",
       "      <td>Monthly</td>\n",
       "    </tr>\n",
       "    <tr>\n",
       "      <th>6</th>\n",
       "      <td>7</td>\n",
       "      <td>27</td>\n",
       "      <td>Female</td>\n",
       "      <td>5.725126</td>\n",
       "      <td>['Travel', 'Cooking']</td>\n",
       "      <td>Marriage</td>\n",
       "      <td>No</td>\n",
       "      <td>Master's Degree</td>\n",
       "      <td>Student</td>\n",
       "      <td>77</td>\n",
       "      <td>Monthly</td>\n",
       "    </tr>\n",
       "    <tr>\n",
       "      <th>7</th>\n",
       "      <td>8</td>\n",
       "      <td>21</td>\n",
       "      <td>Male</td>\n",
       "      <td>5.108276</td>\n",
       "      <td>['Cooking', 'Hiking', 'Movies', 'Reading', 'Mu...</td>\n",
       "      <td>Marriage</td>\n",
       "      <td>Yes</td>\n",
       "      <td>Bachelor's Degree</td>\n",
       "      <td>Teacher</td>\n",
       "      <td>87</td>\n",
       "      <td>Daily</td>\n",
       "    </tr>\n",
       "    <tr>\n",
       "      <th>8</th>\n",
       "      <td>9</td>\n",
       "      <td>33</td>\n",
       "      <td>Female</td>\n",
       "      <td>5.364951</td>\n",
       "      <td>['Music', 'Reading', 'Sports', 'Cooking', 'Mov...</td>\n",
       "      <td>Friendship</td>\n",
       "      <td>Maybe</td>\n",
       "      <td>High School</td>\n",
       "      <td>Social Media Influencer</td>\n",
       "      <td>6</td>\n",
       "      <td>Monthly</td>\n",
       "    </tr>\n",
       "    <tr>\n",
       "      <th>9</th>\n",
       "      <td>10</td>\n",
       "      <td>26</td>\n",
       "      <td>Female</td>\n",
       "      <td>6.020815</td>\n",
       "      <td>['Sports', 'Reading', 'Music', 'Cooking', 'Mov...</td>\n",
       "      <td>Long-term Relationship</td>\n",
       "      <td>No</td>\n",
       "      <td>Ph.D.</td>\n",
       "      <td>Teacher</td>\n",
       "      <td>8</td>\n",
       "      <td>Weekly</td>\n",
       "    </tr>\n",
       "  </tbody>\n",
       "</table>\n",
       "</div>"
      ],
      "text/plain": [
       "   User ID  Age  Gender    Height  \\\n",
       "0        1   30    Male  5.240385   \n",
       "1        2   27  Female  4.937625   \n",
       "2        3   29  Female  5.806296   \n",
       "3        4   29  Female  5.101402   \n",
       "4        5   32    Male  5.986670   \n",
       "5        6   25  Female  5.192045   \n",
       "6        7   27  Female  5.725126   \n",
       "7        8   21    Male  5.108276   \n",
       "8        9   33  Female  5.364951   \n",
       "9       10   26  Female  6.020815   \n",
       "\n",
       "                                           Interests             Looking For  \\\n",
       "0  ['Sports', 'Cooking', 'Hiking', 'Music', 'Movi...           Casual Dating   \n",
       "1                              ['Sports', 'Reading']              Friendship   \n",
       "2                                         ['Sports']           Casual Dating   \n",
       "3                                        ['Reading']                Marriage   \n",
       "4  ['Sports', 'Hiking', 'Music', 'Movies', 'Readi...  Long-term Relationship   \n",
       "5  ['Sports', 'Cooking', 'Movies', 'Music', 'Trav...                Marriage   \n",
       "6                              ['Travel', 'Cooking']                Marriage   \n",
       "7  ['Cooking', 'Hiking', 'Movies', 'Reading', 'Mu...                Marriage   \n",
       "8  ['Music', 'Reading', 'Sports', 'Cooking', 'Mov...              Friendship   \n",
       "9  ['Sports', 'Reading', 'Music', 'Cooking', 'Mov...  Long-term Relationship   \n",
       "\n",
       "  Children    Education Level               Occupation  Swiping History  \\\n",
       "0       No        High School                  Student               96   \n",
       "1      Yes    Master's Degree                   Artist               96   \n",
       "2       No  Bachelor's Degree  Social Media Influencer               64   \n",
       "3       No              Ph.D.                   Doctor               67   \n",
       "4      Yes              Ph.D.                 Engineer               93   \n",
       "5      Yes    Master's Degree                 Engineer               38   \n",
       "6       No    Master's Degree                  Student               77   \n",
       "7      Yes  Bachelor's Degree                  Teacher               87   \n",
       "8    Maybe        High School  Social Media Influencer                6   \n",
       "9       No              Ph.D.                  Teacher                8   \n",
       "\n",
       "  Frequency of Usage  \n",
       "0             Weekly  \n",
       "1            Monthly  \n",
       "2              Daily  \n",
       "3              Daily  \n",
       "4            Monthly  \n",
       "5            Monthly  \n",
       "6            Monthly  \n",
       "7              Daily  \n",
       "8            Monthly  \n",
       "9             Weekly  "
      ]
     },
     "execution_count": 12,
     "metadata": {},
     "output_type": "execute_result"
    }
   ],
   "source": [
    "df= pd.read_csv(\"dating_app_dataset.csv\")\n",
    "df.head(10)"
   ]
  },
  {
   "cell_type": "code",
   "execution_count": 25,
   "metadata": {},
   "outputs": [],
   "source": [
    "color_map = {\"Male\":\"blue\", \"Female\":\"pink\"}\n",
    "df[\"color\"] = df[\"Gender\"].map(color_map)"
   ]
  },
  {
   "cell_type": "code",
   "execution_count": 7,
   "metadata": {},
   "outputs": [
    {
     "data": {
      "application/vnd.plotly.v1+json": {
       "config": {
        "plotlyServerURL": "https://plot.ly"
       },
       "data": [
        {
         "alignmentgroup": "True",
         "bingroup": "x",
         "hovertemplate": "Gender=Male<br>Age=%{x}<br>count=%{y}<extra></extra>",
         "legendgroup": "Male",
         "marker": {
          "color": "#636efa",
          "pattern": {
           "shape": ""
          }
         },
         "name": "Male",
         "nbinsx": 20,
         "offsetgroup": "Male",
         "orientation": "v",
         "showlegend": true,
         "type": "histogram",
         "x": [
          30,
          32,
          21,
          20,
          27,
          29,
          31,
          31,
          22,
          32,
          32,
          30,
          21,
          25,
          19,
          24,
          19,
          35,
          34,
          23,
          30,
          30,
          33,
          35,
          18,
          27,
          35,
          34,
          21,
          33,
          30,
          27,
          31,
          28,
          35,
          23,
          31,
          34,
          23,
          25,
          25,
          24,
          23,
          22,
          31,
          32,
          29,
          21,
          35,
          32,
          31,
          27,
          29,
          24,
          19,
          25,
          25,
          32,
          24,
          26,
          29,
          24,
          32,
          32,
          29,
          26,
          35,
          20,
          32,
          33,
          32,
          24,
          34,
          18,
          25,
          34,
          25,
          21,
          27,
          32,
          30,
          23,
          24,
          22,
          21,
          32,
          31,
          25,
          35,
          30,
          29,
          34,
          26,
          29,
          31,
          31,
          26,
          33,
          29,
          34,
          24,
          28,
          32,
          20,
          32,
          34,
          24,
          33,
          31,
          23,
          20,
          35,
          34,
          28,
          31,
          19,
          31,
          35,
          31,
          27,
          21,
          34,
          21,
          25,
          26,
          29,
          28,
          23,
          33,
          22,
          24,
          21,
          24,
          21,
          29,
          26,
          22,
          22,
          24,
          29,
          20,
          29,
          30,
          21,
          35,
          31,
          19,
          34,
          28,
          27,
          34,
          28,
          23,
          24,
          21,
          26,
          32,
          20,
          21,
          26,
          20,
          30,
          21,
          31,
          26,
          33,
          33,
          19,
          18,
          25,
          19,
          30,
          25,
          34,
          23,
          33,
          19,
          35,
          18,
          25,
          35,
          18,
          33,
          21,
          25,
          26,
          23,
          22,
          34,
          28,
          18,
          33,
          23,
          34,
          19,
          31,
          24,
          18,
          28,
          34,
          30,
          29,
          21,
          33,
          28,
          35,
          29,
          18,
          25,
          18,
          31,
          18,
          30,
          30,
          32,
          23,
          21,
          25,
          27,
          23,
          25,
          27,
          32,
          31,
          35,
          35,
          27,
          33,
          23,
          29,
          29,
          19,
          24,
          34,
          19,
          21,
          34,
          21,
          33,
          29,
          28,
          25,
          35,
          33,
          34,
          18,
          34,
          27,
          33,
          32,
          24
         ],
         "xaxis": "x",
         "yaxis": "y"
        },
        {
         "alignmentgroup": "True",
         "bingroup": "x",
         "hovertemplate": "Gender=Female<br>Age=%{x}<br>count=%{y}<extra></extra>",
         "legendgroup": "Female",
         "marker": {
          "color": "#EF553B",
          "pattern": {
           "shape": ""
          }
         },
         "name": "Female",
         "nbinsx": 20,
         "offsetgroup": "Female",
         "orientation": "v",
         "showlegend": true,
         "type": "histogram",
         "x": [
          27,
          29,
          29,
          25,
          27,
          33,
          26,
          27,
          20,
          33,
          25,
          30,
          24,
          27,
          31,
          24,
          29,
          20,
          19,
          18,
          20,
          26,
          24,
          24,
          31,
          20,
          33,
          26,
          28,
          18,
          28,
          33,
          34,
          30,
          25,
          29,
          32,
          34,
          31,
          22,
          25,
          32,
          25,
          20,
          18,
          25,
          25,
          24,
          34,
          24,
          33,
          21,
          21,
          22,
          22,
          22,
          19,
          30,
          28,
          23,
          22,
          22,
          26,
          22,
          30,
          26,
          25,
          34,
          33,
          25,
          22,
          28,
          27,
          32,
          21,
          25,
          31,
          19,
          33,
          33,
          21,
          29,
          20,
          27,
          28,
          20,
          18,
          18,
          22,
          25,
          26,
          26,
          28,
          30,
          23,
          32,
          27,
          21,
          24,
          30,
          23,
          31,
          28,
          23,
          34,
          34,
          22,
          35,
          19,
          25,
          26,
          22,
          29,
          23,
          25,
          31,
          35,
          33,
          23,
          27,
          20,
          24,
          27,
          21,
          27,
          23,
          23,
          23,
          34,
          25,
          27,
          22,
          32,
          32,
          19,
          34,
          19,
          33,
          18,
          24,
          26,
          24,
          34,
          29,
          22,
          21,
          33,
          34,
          20,
          29,
          30,
          28,
          26,
          35,
          24,
          33,
          32,
          27,
          24,
          19,
          20,
          25,
          31,
          32,
          18,
          19,
          28,
          32,
          34,
          34,
          28,
          31,
          18,
          26,
          29,
          27,
          33,
          19,
          23,
          25,
          32,
          26,
          31,
          35,
          29,
          32,
          26,
          34,
          35,
          23,
          20,
          32,
          31,
          34,
          32,
          30,
          23,
          27,
          33,
          32,
          24,
          29,
          30,
          33,
          27,
          33,
          20,
          20,
          22,
          18,
          27,
          32,
          24,
          20,
          35,
          30,
          27,
          24,
          24,
          35,
          33,
          19,
          18,
          18,
          28,
          23,
          20,
          23,
          33,
          29,
          35,
          26,
          35,
          29,
          20,
          29,
          28,
          18,
          29,
          19,
          35,
          20,
          28,
          32,
          24,
          30,
          32,
          33,
          30
         ],
         "xaxis": "x",
         "yaxis": "y"
        }
       ],
       "layout": {
        "barmode": "relative",
        "legend": {
         "title": {
          "text": "Gender"
         },
         "tracegroupgap": 0
        },
        "template": {
         "data": {
          "bar": [
           {
            "error_x": {
             "color": "#2a3f5f"
            },
            "error_y": {
             "color": "#2a3f5f"
            },
            "marker": {
             "line": {
              "color": "#E5ECF6",
              "width": 0.5
             },
             "pattern": {
              "fillmode": "overlay",
              "size": 10,
              "solidity": 0.2
             }
            },
            "type": "bar"
           }
          ],
          "barpolar": [
           {
            "marker": {
             "line": {
              "color": "#E5ECF6",
              "width": 0.5
             },
             "pattern": {
              "fillmode": "overlay",
              "size": 10,
              "solidity": 0.2
             }
            },
            "type": "barpolar"
           }
          ],
          "carpet": [
           {
            "aaxis": {
             "endlinecolor": "#2a3f5f",
             "gridcolor": "white",
             "linecolor": "white",
             "minorgridcolor": "white",
             "startlinecolor": "#2a3f5f"
            },
            "baxis": {
             "endlinecolor": "#2a3f5f",
             "gridcolor": "white",
             "linecolor": "white",
             "minorgridcolor": "white",
             "startlinecolor": "#2a3f5f"
            },
            "type": "carpet"
           }
          ],
          "choropleth": [
           {
            "colorbar": {
             "outlinewidth": 0,
             "ticks": ""
            },
            "type": "choropleth"
           }
          ],
          "contour": [
           {
            "colorbar": {
             "outlinewidth": 0,
             "ticks": ""
            },
            "colorscale": [
             [
              0,
              "#0d0887"
             ],
             [
              0.1111111111111111,
              "#46039f"
             ],
             [
              0.2222222222222222,
              "#7201a8"
             ],
             [
              0.3333333333333333,
              "#9c179e"
             ],
             [
              0.4444444444444444,
              "#bd3786"
             ],
             [
              0.5555555555555556,
              "#d8576b"
             ],
             [
              0.6666666666666666,
              "#ed7953"
             ],
             [
              0.7777777777777778,
              "#fb9f3a"
             ],
             [
              0.8888888888888888,
              "#fdca26"
             ],
             [
              1,
              "#f0f921"
             ]
            ],
            "type": "contour"
           }
          ],
          "contourcarpet": [
           {
            "colorbar": {
             "outlinewidth": 0,
             "ticks": ""
            },
            "type": "contourcarpet"
           }
          ],
          "heatmap": [
           {
            "colorbar": {
             "outlinewidth": 0,
             "ticks": ""
            },
            "colorscale": [
             [
              0,
              "#0d0887"
             ],
             [
              0.1111111111111111,
              "#46039f"
             ],
             [
              0.2222222222222222,
              "#7201a8"
             ],
             [
              0.3333333333333333,
              "#9c179e"
             ],
             [
              0.4444444444444444,
              "#bd3786"
             ],
             [
              0.5555555555555556,
              "#d8576b"
             ],
             [
              0.6666666666666666,
              "#ed7953"
             ],
             [
              0.7777777777777778,
              "#fb9f3a"
             ],
             [
              0.8888888888888888,
              "#fdca26"
             ],
             [
              1,
              "#f0f921"
             ]
            ],
            "type": "heatmap"
           }
          ],
          "heatmapgl": [
           {
            "colorbar": {
             "outlinewidth": 0,
             "ticks": ""
            },
            "colorscale": [
             [
              0,
              "#0d0887"
             ],
             [
              0.1111111111111111,
              "#46039f"
             ],
             [
              0.2222222222222222,
              "#7201a8"
             ],
             [
              0.3333333333333333,
              "#9c179e"
             ],
             [
              0.4444444444444444,
              "#bd3786"
             ],
             [
              0.5555555555555556,
              "#d8576b"
             ],
             [
              0.6666666666666666,
              "#ed7953"
             ],
             [
              0.7777777777777778,
              "#fb9f3a"
             ],
             [
              0.8888888888888888,
              "#fdca26"
             ],
             [
              1,
              "#f0f921"
             ]
            ],
            "type": "heatmapgl"
           }
          ],
          "histogram": [
           {
            "marker": {
             "pattern": {
              "fillmode": "overlay",
              "size": 10,
              "solidity": 0.2
             }
            },
            "type": "histogram"
           }
          ],
          "histogram2d": [
           {
            "colorbar": {
             "outlinewidth": 0,
             "ticks": ""
            },
            "colorscale": [
             [
              0,
              "#0d0887"
             ],
             [
              0.1111111111111111,
              "#46039f"
             ],
             [
              0.2222222222222222,
              "#7201a8"
             ],
             [
              0.3333333333333333,
              "#9c179e"
             ],
             [
              0.4444444444444444,
              "#bd3786"
             ],
             [
              0.5555555555555556,
              "#d8576b"
             ],
             [
              0.6666666666666666,
              "#ed7953"
             ],
             [
              0.7777777777777778,
              "#fb9f3a"
             ],
             [
              0.8888888888888888,
              "#fdca26"
             ],
             [
              1,
              "#f0f921"
             ]
            ],
            "type": "histogram2d"
           }
          ],
          "histogram2dcontour": [
           {
            "colorbar": {
             "outlinewidth": 0,
             "ticks": ""
            },
            "colorscale": [
             [
              0,
              "#0d0887"
             ],
             [
              0.1111111111111111,
              "#46039f"
             ],
             [
              0.2222222222222222,
              "#7201a8"
             ],
             [
              0.3333333333333333,
              "#9c179e"
             ],
             [
              0.4444444444444444,
              "#bd3786"
             ],
             [
              0.5555555555555556,
              "#d8576b"
             ],
             [
              0.6666666666666666,
              "#ed7953"
             ],
             [
              0.7777777777777778,
              "#fb9f3a"
             ],
             [
              0.8888888888888888,
              "#fdca26"
             ],
             [
              1,
              "#f0f921"
             ]
            ],
            "type": "histogram2dcontour"
           }
          ],
          "mesh3d": [
           {
            "colorbar": {
             "outlinewidth": 0,
             "ticks": ""
            },
            "type": "mesh3d"
           }
          ],
          "parcoords": [
           {
            "line": {
             "colorbar": {
              "outlinewidth": 0,
              "ticks": ""
             }
            },
            "type": "parcoords"
           }
          ],
          "pie": [
           {
            "automargin": true,
            "type": "pie"
           }
          ],
          "scatter": [
           {
            "fillpattern": {
             "fillmode": "overlay",
             "size": 10,
             "solidity": 0.2
            },
            "type": "scatter"
           }
          ],
          "scatter3d": [
           {
            "line": {
             "colorbar": {
              "outlinewidth": 0,
              "ticks": ""
             }
            },
            "marker": {
             "colorbar": {
              "outlinewidth": 0,
              "ticks": ""
             }
            },
            "type": "scatter3d"
           }
          ],
          "scattercarpet": [
           {
            "marker": {
             "colorbar": {
              "outlinewidth": 0,
              "ticks": ""
             }
            },
            "type": "scattercarpet"
           }
          ],
          "scattergeo": [
           {
            "marker": {
             "colorbar": {
              "outlinewidth": 0,
              "ticks": ""
             }
            },
            "type": "scattergeo"
           }
          ],
          "scattergl": [
           {
            "marker": {
             "colorbar": {
              "outlinewidth": 0,
              "ticks": ""
             }
            },
            "type": "scattergl"
           }
          ],
          "scattermapbox": [
           {
            "marker": {
             "colorbar": {
              "outlinewidth": 0,
              "ticks": ""
             }
            },
            "type": "scattermapbox"
           }
          ],
          "scatterpolar": [
           {
            "marker": {
             "colorbar": {
              "outlinewidth": 0,
              "ticks": ""
             }
            },
            "type": "scatterpolar"
           }
          ],
          "scatterpolargl": [
           {
            "marker": {
             "colorbar": {
              "outlinewidth": 0,
              "ticks": ""
             }
            },
            "type": "scatterpolargl"
           }
          ],
          "scatterternary": [
           {
            "marker": {
             "colorbar": {
              "outlinewidth": 0,
              "ticks": ""
             }
            },
            "type": "scatterternary"
           }
          ],
          "surface": [
           {
            "colorbar": {
             "outlinewidth": 0,
             "ticks": ""
            },
            "colorscale": [
             [
              0,
              "#0d0887"
             ],
             [
              0.1111111111111111,
              "#46039f"
             ],
             [
              0.2222222222222222,
              "#7201a8"
             ],
             [
              0.3333333333333333,
              "#9c179e"
             ],
             [
              0.4444444444444444,
              "#bd3786"
             ],
             [
              0.5555555555555556,
              "#d8576b"
             ],
             [
              0.6666666666666666,
              "#ed7953"
             ],
             [
              0.7777777777777778,
              "#fb9f3a"
             ],
             [
              0.8888888888888888,
              "#fdca26"
             ],
             [
              1,
              "#f0f921"
             ]
            ],
            "type": "surface"
           }
          ],
          "table": [
           {
            "cells": {
             "fill": {
              "color": "#EBF0F8"
             },
             "line": {
              "color": "white"
             }
            },
            "header": {
             "fill": {
              "color": "#C8D4E3"
             },
             "line": {
              "color": "white"
             }
            },
            "type": "table"
           }
          ]
         },
         "layout": {
          "annotationdefaults": {
           "arrowcolor": "#2a3f5f",
           "arrowhead": 0,
           "arrowwidth": 1
          },
          "autotypenumbers": "strict",
          "coloraxis": {
           "colorbar": {
            "outlinewidth": 0,
            "ticks": ""
           }
          },
          "colorscale": {
           "diverging": [
            [
             0,
             "#8e0152"
            ],
            [
             0.1,
             "#c51b7d"
            ],
            [
             0.2,
             "#de77ae"
            ],
            [
             0.3,
             "#f1b6da"
            ],
            [
             0.4,
             "#fde0ef"
            ],
            [
             0.5,
             "#f7f7f7"
            ],
            [
             0.6,
             "#e6f5d0"
            ],
            [
             0.7,
             "#b8e186"
            ],
            [
             0.8,
             "#7fbc41"
            ],
            [
             0.9,
             "#4d9221"
            ],
            [
             1,
             "#276419"
            ]
           ],
           "sequential": [
            [
             0,
             "#0d0887"
            ],
            [
             0.1111111111111111,
             "#46039f"
            ],
            [
             0.2222222222222222,
             "#7201a8"
            ],
            [
             0.3333333333333333,
             "#9c179e"
            ],
            [
             0.4444444444444444,
             "#bd3786"
            ],
            [
             0.5555555555555556,
             "#d8576b"
            ],
            [
             0.6666666666666666,
             "#ed7953"
            ],
            [
             0.7777777777777778,
             "#fb9f3a"
            ],
            [
             0.8888888888888888,
             "#fdca26"
            ],
            [
             1,
             "#f0f921"
            ]
           ],
           "sequentialminus": [
            [
             0,
             "#0d0887"
            ],
            [
             0.1111111111111111,
             "#46039f"
            ],
            [
             0.2222222222222222,
             "#7201a8"
            ],
            [
             0.3333333333333333,
             "#9c179e"
            ],
            [
             0.4444444444444444,
             "#bd3786"
            ],
            [
             0.5555555555555556,
             "#d8576b"
            ],
            [
             0.6666666666666666,
             "#ed7953"
            ],
            [
             0.7777777777777778,
             "#fb9f3a"
            ],
            [
             0.8888888888888888,
             "#fdca26"
            ],
            [
             1,
             "#f0f921"
            ]
           ]
          },
          "colorway": [
           "#636efa",
           "#EF553B",
           "#00cc96",
           "#ab63fa",
           "#FFA15A",
           "#19d3f3",
           "#FF6692",
           "#B6E880",
           "#FF97FF",
           "#FECB52"
          ],
          "font": {
           "color": "#2a3f5f"
          },
          "geo": {
           "bgcolor": "white",
           "lakecolor": "white",
           "landcolor": "#E5ECF6",
           "showlakes": true,
           "showland": true,
           "subunitcolor": "white"
          },
          "hoverlabel": {
           "align": "left"
          },
          "hovermode": "closest",
          "mapbox": {
           "style": "light"
          },
          "paper_bgcolor": "white",
          "plot_bgcolor": "#E5ECF6",
          "polar": {
           "angularaxis": {
            "gridcolor": "white",
            "linecolor": "white",
            "ticks": ""
           },
           "bgcolor": "#E5ECF6",
           "radialaxis": {
            "gridcolor": "white",
            "linecolor": "white",
            "ticks": ""
           }
          },
          "scene": {
           "xaxis": {
            "backgroundcolor": "#E5ECF6",
            "gridcolor": "white",
            "gridwidth": 2,
            "linecolor": "white",
            "showbackground": true,
            "ticks": "",
            "zerolinecolor": "white"
           },
           "yaxis": {
            "backgroundcolor": "#E5ECF6",
            "gridcolor": "white",
            "gridwidth": 2,
            "linecolor": "white",
            "showbackground": true,
            "ticks": "",
            "zerolinecolor": "white"
           },
           "zaxis": {
            "backgroundcolor": "#E5ECF6",
            "gridcolor": "white",
            "gridwidth": 2,
            "linecolor": "white",
            "showbackground": true,
            "ticks": "",
            "zerolinecolor": "white"
           }
          },
          "shapedefaults": {
           "line": {
            "color": "#2a3f5f"
           }
          },
          "ternary": {
           "aaxis": {
            "gridcolor": "white",
            "linecolor": "white",
            "ticks": ""
           },
           "baxis": {
            "gridcolor": "white",
            "linecolor": "white",
            "ticks": ""
           },
           "bgcolor": "#E5ECF6",
           "caxis": {
            "gridcolor": "white",
            "linecolor": "white",
            "ticks": ""
           }
          },
          "title": {
           "x": 0.05
          },
          "xaxis": {
           "automargin": true,
           "gridcolor": "white",
           "linecolor": "white",
           "ticks": "",
           "title": {
            "standoff": 15
           },
           "zerolinecolor": "white",
           "zerolinewidth": 2
          },
          "yaxis": {
           "automargin": true,
           "gridcolor": "white",
           "linecolor": "white",
           "ticks": "",
           "title": {
            "standoff": 15
           },
           "zerolinecolor": "white",
           "zerolinewidth": 2
          }
         }
        },
        "title": {
         "text": "Age Distribution by Gender"
        },
        "xaxis": {
         "anchor": "y",
         "domain": [
          0,
          1
         ],
         "title": {
          "text": "Age"
         }
        },
        "yaxis": {
         "anchor": "x",
         "domain": [
          0,
          1
         ],
         "title": {
          "text": "Count"
         }
        }
       }
      }
     },
     "metadata": {},
     "output_type": "display_data"
    }
   ],
   "source": [
    "fig = plx.histogram(df, x=\"Age\", color=\"Gender\", nbins=20, \n",
    "                   title=\"Age Distribution by Gender\")\n",
    "#fig.update_traces(marker_color=['Blue', 'pink'])\n",
    "fig.update_layout(xaxis_title=\"Age\", yaxis_title=\"Count\")\n",
    "fig.show()"
   ]
  },
  {
   "cell_type": "code",
   "execution_count": 27,
   "metadata": {},
   "outputs": [
    {
     "data": {
      "application/vnd.plotly.v1+json": {
       "config": {
        "plotlyServerURL": "https://plot.ly"
       },
       "data": [
        {
         "alignmentgroup": "True",
         "hovertemplate": "Gender=Male<br>Education Level=%{x}<br>count=%{y}<extra></extra>",
         "legendgroup": "Male",
         "marker": {
          "color": "#636efa",
          "pattern": {
           "shape": ""
          }
         },
         "name": "Male",
         "offsetgroup": "Male",
         "orientation": "v",
         "showlegend": true,
         "textposition": "auto",
         "type": "bar",
         "x": [
          "High School",
          "Ph.D.",
          "Bachelor's Degree",
          "Bachelor's Degree",
          "Bachelor's Degree",
          "Master's Degree",
          "Master's Degree",
          "Bachelor's Degree",
          "Bachelor's Degree",
          "Master's Degree",
          "Bachelor's Degree",
          "Ph.D.",
          "Ph.D.",
          "Ph.D.",
          "Ph.D.",
          "Master's Degree",
          "High School",
          "Bachelor's Degree",
          "Master's Degree",
          "High School",
          "High School",
          "High School",
          "Bachelor's Degree",
          "High School",
          "Ph.D.",
          "Master's Degree",
          "High School",
          "Master's Degree",
          "Ph.D.",
          "Bachelor's Degree",
          "Ph.D.",
          "Master's Degree",
          "Master's Degree",
          "Bachelor's Degree",
          "High School",
          "Master's Degree",
          "Bachelor's Degree",
          "Master's Degree",
          "Ph.D.",
          "Bachelor's Degree",
          "Ph.D.",
          "Master's Degree",
          "High School",
          "Ph.D.",
          "Bachelor's Degree",
          "High School",
          "Master's Degree",
          "Ph.D.",
          "Master's Degree",
          "Master's Degree",
          "High School",
          "Master's Degree",
          "High School",
          "High School",
          "High School",
          "Ph.D.",
          "Ph.D.",
          "Master's Degree",
          "High School",
          "Ph.D.",
          "Bachelor's Degree",
          "Ph.D.",
          "Master's Degree",
          "Ph.D.",
          "Bachelor's Degree",
          "Ph.D.",
          "Master's Degree",
          "Bachelor's Degree",
          "Ph.D.",
          "Bachelor's Degree",
          "Bachelor's Degree",
          "Master's Degree",
          "Bachelor's Degree",
          "Master's Degree",
          "Bachelor's Degree",
          "Master's Degree",
          "Bachelor's Degree",
          "High School",
          "Master's Degree",
          "Master's Degree",
          "High School",
          "Ph.D.",
          "Ph.D.",
          "Bachelor's Degree",
          "Master's Degree",
          "High School",
          "Bachelor's Degree",
          "Ph.D.",
          "Bachelor's Degree",
          "Ph.D.",
          "Ph.D.",
          "Master's Degree",
          "Master's Degree",
          "Ph.D.",
          "High School",
          "Master's Degree",
          "Master's Degree",
          "Bachelor's Degree",
          "Master's Degree",
          "Master's Degree",
          "Master's Degree",
          "Bachelor's Degree",
          "Bachelor's Degree",
          "Ph.D.",
          "High School",
          "Bachelor's Degree",
          "Ph.D.",
          "Ph.D.",
          "Bachelor's Degree",
          "Bachelor's Degree",
          "Bachelor's Degree",
          "High School",
          "Master's Degree",
          "Ph.D.",
          "Bachelor's Degree",
          "High School",
          "Bachelor's Degree",
          "Master's Degree",
          "High School",
          "High School",
          "Bachelor's Degree",
          "Master's Degree",
          "Bachelor's Degree",
          "Bachelor's Degree",
          "Ph.D.",
          "Bachelor's Degree",
          "High School",
          "Master's Degree",
          "Bachelor's Degree",
          "Master's Degree",
          "Bachelor's Degree",
          "Ph.D.",
          "Ph.D.",
          "Master's Degree",
          "Bachelor's Degree",
          "Bachelor's Degree",
          "Ph.D.",
          "Ph.D.",
          "Master's Degree",
          "Bachelor's Degree",
          "Bachelor's Degree",
          "High School",
          "Bachelor's Degree",
          "High School",
          "Ph.D.",
          "Master's Degree",
          "Master's Degree",
          "Bachelor's Degree",
          "Ph.D.",
          "Ph.D.",
          "High School",
          "High School",
          "Bachelor's Degree",
          "Master's Degree",
          "Master's Degree",
          "Master's Degree",
          "Bachelor's Degree",
          "Master's Degree",
          "Master's Degree",
          "Bachelor's Degree",
          "Master's Degree",
          "Bachelor's Degree",
          "Bachelor's Degree",
          "Bachelor's Degree",
          "Master's Degree",
          "High School",
          "Ph.D.",
          "Bachelor's Degree",
          "Ph.D.",
          "High School",
          "Bachelor's Degree",
          "High School",
          "High School",
          "Master's Degree",
          "Ph.D.",
          "High School",
          "Bachelor's Degree",
          "High School",
          "Master's Degree",
          "High School",
          "Bachelor's Degree",
          "Bachelor's Degree",
          "Master's Degree",
          "Ph.D.",
          "High School",
          "Master's Degree",
          "Ph.D.",
          "High School",
          "Bachelor's Degree",
          "High School",
          "Master's Degree",
          "Master's Degree",
          "Master's Degree",
          "Bachelor's Degree",
          "High School",
          "High School",
          "Ph.D.",
          "Master's Degree",
          "Master's Degree",
          "Master's Degree",
          "Bachelor's Degree",
          "High School",
          "Bachelor's Degree",
          "High School",
          "Bachelor's Degree",
          "Ph.D.",
          "Bachelor's Degree",
          "Bachelor's Degree",
          "Master's Degree",
          "High School",
          "Master's Degree",
          "Ph.D.",
          "Bachelor's Degree",
          "High School",
          "Bachelor's Degree",
          "Master's Degree",
          "Bachelor's Degree",
          "High School",
          "Bachelor's Degree",
          "Bachelor's Degree",
          "High School",
          "Ph.D.",
          "High School",
          "Bachelor's Degree",
          "High School",
          "High School",
          "High School",
          "Bachelor's Degree",
          "Ph.D.",
          "Bachelor's Degree",
          "Ph.D.",
          "Master's Degree",
          "Ph.D.",
          "Ph.D.",
          "High School",
          "Bachelor's Degree",
          "Ph.D.",
          "Master's Degree",
          "Master's Degree",
          "Master's Degree",
          "Bachelor's Degree",
          "Ph.D.",
          "High School",
          "Bachelor's Degree",
          "Ph.D.",
          "Master's Degree",
          "Bachelor's Degree",
          "Bachelor's Degree",
          "Bachelor's Degree",
          "High School",
          "Ph.D."
         ],
         "xaxis": "x",
         "y": [
          1,
          1,
          1,
          1,
          1,
          1,
          1,
          1,
          1,
          1,
          1,
          1,
          1,
          1,
          1,
          1,
          1,
          1,
          1,
          1,
          1,
          1,
          1,
          1,
          1,
          1,
          1,
          1,
          1,
          1,
          1,
          1,
          1,
          1,
          1,
          1,
          1,
          1,
          1,
          1,
          1,
          1,
          1,
          1,
          1,
          1,
          1,
          1,
          1,
          1,
          1,
          1,
          1,
          1,
          1,
          1,
          1,
          1,
          1,
          1,
          1,
          1,
          1,
          1,
          1,
          1,
          1,
          1,
          1,
          1,
          1,
          1,
          1,
          1,
          1,
          1,
          1,
          1,
          1,
          1,
          1,
          1,
          1,
          1,
          1,
          1,
          1,
          1,
          1,
          1,
          1,
          1,
          1,
          1,
          1,
          1,
          1,
          1,
          1,
          1,
          1,
          1,
          1,
          1,
          1,
          1,
          1,
          1,
          1,
          1,
          1,
          1,
          1,
          1,
          1,
          1,
          1,
          1,
          1,
          1,
          1,
          1,
          1,
          1,
          1,
          1,
          1,
          1,
          1,
          1,
          1,
          1,
          1,
          1,
          1,
          1,
          1,
          1,
          1,
          1,
          1,
          1,
          1,
          1,
          1,
          1,
          1,
          1,
          1,
          1,
          1,
          1,
          1,
          1,
          1,
          1,
          1,
          1,
          1,
          1,
          1,
          1,
          1,
          1,
          1,
          1,
          1,
          1,
          1,
          1,
          1,
          1,
          1,
          1,
          1,
          1,
          1,
          1,
          1,
          1,
          1,
          1,
          1,
          1,
          1,
          1,
          1,
          1,
          1,
          1,
          1,
          1,
          1,
          1,
          1,
          1,
          1,
          1,
          1,
          1,
          1,
          1,
          1,
          1,
          1,
          1,
          1,
          1,
          1,
          1,
          1,
          1,
          1,
          1,
          1,
          1,
          1,
          1,
          1,
          1,
          1,
          1,
          1,
          1,
          1,
          1,
          1,
          1,
          1,
          1,
          1,
          1,
          1,
          1,
          1,
          1,
          1,
          1,
          1,
          1,
          1,
          1,
          1,
          1,
          1,
          1,
          1,
          1,
          1,
          1,
          1
         ],
         "yaxis": "y"
        },
        {
         "alignmentgroup": "True",
         "hovertemplate": "Gender=Female<br>Education Level=%{x}<br>count=%{y}<extra></extra>",
         "legendgroup": "Female",
         "marker": {
          "color": "#EF553B",
          "pattern": {
           "shape": ""
          }
         },
         "name": "Female",
         "offsetgroup": "Female",
         "orientation": "v",
         "showlegend": true,
         "textposition": "auto",
         "type": "bar",
         "x": [
          "Master's Degree",
          "Bachelor's Degree",
          "Ph.D.",
          "Master's Degree",
          "Master's Degree",
          "High School",
          "Ph.D.",
          "Master's Degree",
          "Ph.D.",
          "Bachelor's Degree",
          "High School",
          "Bachelor's Degree",
          "Ph.D.",
          "Master's Degree",
          "Bachelor's Degree",
          "Master's Degree",
          "High School",
          "High School",
          "Ph.D.",
          "Ph.D.",
          "Master's Degree",
          "Bachelor's Degree",
          "Ph.D.",
          "Bachelor's Degree",
          "High School",
          "Bachelor's Degree",
          "High School",
          "Bachelor's Degree",
          "High School",
          "Master's Degree",
          "High School",
          "Ph.D.",
          "Ph.D.",
          "High School",
          "Ph.D.",
          "Ph.D.",
          "Bachelor's Degree",
          "Master's Degree",
          "Bachelor's Degree",
          "High School",
          "Bachelor's Degree",
          "Master's Degree",
          "Ph.D.",
          "Ph.D.",
          "Bachelor's Degree",
          "Bachelor's Degree",
          "Ph.D.",
          "High School",
          "Bachelor's Degree",
          "Ph.D.",
          "Bachelor's Degree",
          "Ph.D.",
          "High School",
          "Ph.D.",
          "Master's Degree",
          "High School",
          "Bachelor's Degree",
          "Ph.D.",
          "Bachelor's Degree",
          "Master's Degree",
          "Master's Degree",
          "Bachelor's Degree",
          "Master's Degree",
          "High School",
          "Bachelor's Degree",
          "Ph.D.",
          "Ph.D.",
          "Bachelor's Degree",
          "High School",
          "Master's Degree",
          "Master's Degree",
          "Bachelor's Degree",
          "Ph.D.",
          "Master's Degree",
          "Master's Degree",
          "High School",
          "Ph.D.",
          "Master's Degree",
          "High School",
          "High School",
          "High School",
          "Bachelor's Degree",
          "High School",
          "Bachelor's Degree",
          "Master's Degree",
          "High School",
          "Ph.D.",
          "Master's Degree",
          "Master's Degree",
          "Bachelor's Degree",
          "Master's Degree",
          "High School",
          "High School",
          "High School",
          "High School",
          "High School",
          "Bachelor's Degree",
          "Ph.D.",
          "Bachelor's Degree",
          "Master's Degree",
          "Bachelor's Degree",
          "High School",
          "Bachelor's Degree",
          "Ph.D.",
          "Ph.D.",
          "Master's Degree",
          "Master's Degree",
          "High School",
          "Master's Degree",
          "Bachelor's Degree",
          "High School",
          "Master's Degree",
          "Bachelor's Degree",
          "Ph.D.",
          "Bachelor's Degree",
          "Ph.D.",
          "Ph.D.",
          "High School",
          "Master's Degree",
          "Bachelor's Degree",
          "Master's Degree",
          "Ph.D.",
          "Bachelor's Degree",
          "High School",
          "High School",
          "Bachelor's Degree",
          "High School",
          "Ph.D.",
          "Ph.D.",
          "High School",
          "Ph.D.",
          "Bachelor's Degree",
          "Bachelor's Degree",
          "Bachelor's Degree",
          "Ph.D.",
          "Bachelor's Degree",
          "High School",
          "Bachelor's Degree",
          "Master's Degree",
          "Master's Degree",
          "Bachelor's Degree",
          "Ph.D.",
          "Ph.D.",
          "Ph.D.",
          "Ph.D.",
          "High School",
          "Bachelor's Degree",
          "High School",
          "Master's Degree",
          "High School",
          "High School",
          "Master's Degree",
          "High School",
          "Bachelor's Degree",
          "Master's Degree",
          "High School",
          "Master's Degree",
          "Master's Degree",
          "High School",
          "Ph.D.",
          "Master's Degree",
          "High School",
          "Ph.D.",
          "Bachelor's Degree",
          "Ph.D.",
          "Ph.D.",
          "High School",
          "Bachelor's Degree",
          "Ph.D.",
          "Ph.D.",
          "Master's Degree",
          "Ph.D.",
          "Ph.D.",
          "Ph.D.",
          "High School",
          "Master's Degree",
          "Ph.D.",
          "Bachelor's Degree",
          "Bachelor's Degree",
          "High School",
          "Bachelor's Degree",
          "High School",
          "High School",
          "Ph.D.",
          "Master's Degree",
          "Bachelor's Degree",
          "Ph.D.",
          "Bachelor's Degree",
          "Master's Degree",
          "Bachelor's Degree",
          "Ph.D.",
          "Master's Degree",
          "Master's Degree",
          "Ph.D.",
          "Ph.D.",
          "High School",
          "High School",
          "Bachelor's Degree",
          "Master's Degree",
          "Master's Degree",
          "High School",
          "High School",
          "Bachelor's Degree",
          "Master's Degree",
          "Bachelor's Degree",
          "High School",
          "Bachelor's Degree",
          "High School",
          "Bachelor's Degree",
          "Bachelor's Degree",
          "High School",
          "High School",
          "High School",
          "Bachelor's Degree",
          "High School",
          "Bachelor's Degree",
          "Ph.D.",
          "Master's Degree",
          "Master's Degree",
          "Bachelor's Degree",
          "Bachelor's Degree",
          "Ph.D.",
          "Master's Degree",
          "Bachelor's Degree",
          "High School",
          "Ph.D.",
          "High School",
          "Bachelor's Degree",
          "High School",
          "High School",
          "Master's Degree",
          "Ph.D.",
          "High School",
          "Master's Degree",
          "High School",
          "Bachelor's Degree",
          "High School",
          "Ph.D.",
          "Master's Degree",
          "Master's Degree",
          "Bachelor's Degree",
          "High School",
          "Master's Degree",
          "Ph.D.",
          "Bachelor's Degree",
          "Bachelor's Degree",
          "Master's Degree",
          "High School",
          "High School"
         ],
         "xaxis": "x",
         "y": [
          1,
          1,
          1,
          1,
          1,
          1,
          1,
          1,
          1,
          1,
          1,
          1,
          1,
          1,
          1,
          1,
          1,
          1,
          1,
          1,
          1,
          1,
          1,
          1,
          1,
          1,
          1,
          1,
          1,
          1,
          1,
          1,
          1,
          1,
          1,
          1,
          1,
          1,
          1,
          1,
          1,
          1,
          1,
          1,
          1,
          1,
          1,
          1,
          1,
          1,
          1,
          1,
          1,
          1,
          1,
          1,
          1,
          1,
          1,
          1,
          1,
          1,
          1,
          1,
          1,
          1,
          1,
          1,
          1,
          1,
          1,
          1,
          1,
          1,
          1,
          1,
          1,
          1,
          1,
          1,
          1,
          1,
          1,
          1,
          1,
          1,
          1,
          1,
          1,
          1,
          1,
          1,
          1,
          1,
          1,
          1,
          1,
          1,
          1,
          1,
          1,
          1,
          1,
          1,
          1,
          1,
          1,
          1,
          1,
          1,
          1,
          1,
          1,
          1,
          1,
          1,
          1,
          1,
          1,
          1,
          1,
          1,
          1,
          1,
          1,
          1,
          1,
          1,
          1,
          1,
          1,
          1,
          1,
          1,
          1,
          1,
          1,
          1,
          1,
          1,
          1,
          1,
          1,
          1,
          1,
          1,
          1,
          1,
          1,
          1,
          1,
          1,
          1,
          1,
          1,
          1,
          1,
          1,
          1,
          1,
          1,
          1,
          1,
          1,
          1,
          1,
          1,
          1,
          1,
          1,
          1,
          1,
          1,
          1,
          1,
          1,
          1,
          1,
          1,
          1,
          1,
          1,
          1,
          1,
          1,
          1,
          1,
          1,
          1,
          1,
          1,
          1,
          1,
          1,
          1,
          1,
          1,
          1,
          1,
          1,
          1,
          1,
          1,
          1,
          1,
          1,
          1,
          1,
          1,
          1,
          1,
          1,
          1,
          1,
          1,
          1,
          1,
          1,
          1,
          1,
          1,
          1,
          1,
          1,
          1,
          1,
          1,
          1,
          1,
          1,
          1,
          1,
          1,
          1,
          1,
          1,
          1,
          1,
          1,
          1,
          1,
          1,
          1,
          1,
          1,
          1,
          1,
          1,
          1
         ],
         "yaxis": "y"
        }
       ],
       "layout": {
        "barmode": "relative",
        "legend": {
         "title": {
          "text": "Gender"
         },
         "tracegroupgap": 0
        },
        "template": {
         "data": {
          "bar": [
           {
            "error_x": {
             "color": "#2a3f5f"
            },
            "error_y": {
             "color": "#2a3f5f"
            },
            "marker": {
             "line": {
              "color": "#E5ECF6",
              "width": 0.5
             },
             "pattern": {
              "fillmode": "overlay",
              "size": 10,
              "solidity": 0.2
             }
            },
            "type": "bar"
           }
          ],
          "barpolar": [
           {
            "marker": {
             "line": {
              "color": "#E5ECF6",
              "width": 0.5
             },
             "pattern": {
              "fillmode": "overlay",
              "size": 10,
              "solidity": 0.2
             }
            },
            "type": "barpolar"
           }
          ],
          "carpet": [
           {
            "aaxis": {
             "endlinecolor": "#2a3f5f",
             "gridcolor": "white",
             "linecolor": "white",
             "minorgridcolor": "white",
             "startlinecolor": "#2a3f5f"
            },
            "baxis": {
             "endlinecolor": "#2a3f5f",
             "gridcolor": "white",
             "linecolor": "white",
             "minorgridcolor": "white",
             "startlinecolor": "#2a3f5f"
            },
            "type": "carpet"
           }
          ],
          "choropleth": [
           {
            "colorbar": {
             "outlinewidth": 0,
             "ticks": ""
            },
            "type": "choropleth"
           }
          ],
          "contour": [
           {
            "colorbar": {
             "outlinewidth": 0,
             "ticks": ""
            },
            "colorscale": [
             [
              0,
              "#0d0887"
             ],
             [
              0.1111111111111111,
              "#46039f"
             ],
             [
              0.2222222222222222,
              "#7201a8"
             ],
             [
              0.3333333333333333,
              "#9c179e"
             ],
             [
              0.4444444444444444,
              "#bd3786"
             ],
             [
              0.5555555555555556,
              "#d8576b"
             ],
             [
              0.6666666666666666,
              "#ed7953"
             ],
             [
              0.7777777777777778,
              "#fb9f3a"
             ],
             [
              0.8888888888888888,
              "#fdca26"
             ],
             [
              1,
              "#f0f921"
             ]
            ],
            "type": "contour"
           }
          ],
          "contourcarpet": [
           {
            "colorbar": {
             "outlinewidth": 0,
             "ticks": ""
            },
            "type": "contourcarpet"
           }
          ],
          "heatmap": [
           {
            "colorbar": {
             "outlinewidth": 0,
             "ticks": ""
            },
            "colorscale": [
             [
              0,
              "#0d0887"
             ],
             [
              0.1111111111111111,
              "#46039f"
             ],
             [
              0.2222222222222222,
              "#7201a8"
             ],
             [
              0.3333333333333333,
              "#9c179e"
             ],
             [
              0.4444444444444444,
              "#bd3786"
             ],
             [
              0.5555555555555556,
              "#d8576b"
             ],
             [
              0.6666666666666666,
              "#ed7953"
             ],
             [
              0.7777777777777778,
              "#fb9f3a"
             ],
             [
              0.8888888888888888,
              "#fdca26"
             ],
             [
              1,
              "#f0f921"
             ]
            ],
            "type": "heatmap"
           }
          ],
          "heatmapgl": [
           {
            "colorbar": {
             "outlinewidth": 0,
             "ticks": ""
            },
            "colorscale": [
             [
              0,
              "#0d0887"
             ],
             [
              0.1111111111111111,
              "#46039f"
             ],
             [
              0.2222222222222222,
              "#7201a8"
             ],
             [
              0.3333333333333333,
              "#9c179e"
             ],
             [
              0.4444444444444444,
              "#bd3786"
             ],
             [
              0.5555555555555556,
              "#d8576b"
             ],
             [
              0.6666666666666666,
              "#ed7953"
             ],
             [
              0.7777777777777778,
              "#fb9f3a"
             ],
             [
              0.8888888888888888,
              "#fdca26"
             ],
             [
              1,
              "#f0f921"
             ]
            ],
            "type": "heatmapgl"
           }
          ],
          "histogram": [
           {
            "marker": {
             "pattern": {
              "fillmode": "overlay",
              "size": 10,
              "solidity": 0.2
             }
            },
            "type": "histogram"
           }
          ],
          "histogram2d": [
           {
            "colorbar": {
             "outlinewidth": 0,
             "ticks": ""
            },
            "colorscale": [
             [
              0,
              "#0d0887"
             ],
             [
              0.1111111111111111,
              "#46039f"
             ],
             [
              0.2222222222222222,
              "#7201a8"
             ],
             [
              0.3333333333333333,
              "#9c179e"
             ],
             [
              0.4444444444444444,
              "#bd3786"
             ],
             [
              0.5555555555555556,
              "#d8576b"
             ],
             [
              0.6666666666666666,
              "#ed7953"
             ],
             [
              0.7777777777777778,
              "#fb9f3a"
             ],
             [
              0.8888888888888888,
              "#fdca26"
             ],
             [
              1,
              "#f0f921"
             ]
            ],
            "type": "histogram2d"
           }
          ],
          "histogram2dcontour": [
           {
            "colorbar": {
             "outlinewidth": 0,
             "ticks": ""
            },
            "colorscale": [
             [
              0,
              "#0d0887"
             ],
             [
              0.1111111111111111,
              "#46039f"
             ],
             [
              0.2222222222222222,
              "#7201a8"
             ],
             [
              0.3333333333333333,
              "#9c179e"
             ],
             [
              0.4444444444444444,
              "#bd3786"
             ],
             [
              0.5555555555555556,
              "#d8576b"
             ],
             [
              0.6666666666666666,
              "#ed7953"
             ],
             [
              0.7777777777777778,
              "#fb9f3a"
             ],
             [
              0.8888888888888888,
              "#fdca26"
             ],
             [
              1,
              "#f0f921"
             ]
            ],
            "type": "histogram2dcontour"
           }
          ],
          "mesh3d": [
           {
            "colorbar": {
             "outlinewidth": 0,
             "ticks": ""
            },
            "type": "mesh3d"
           }
          ],
          "parcoords": [
           {
            "line": {
             "colorbar": {
              "outlinewidth": 0,
              "ticks": ""
             }
            },
            "type": "parcoords"
           }
          ],
          "pie": [
           {
            "automargin": true,
            "type": "pie"
           }
          ],
          "scatter": [
           {
            "fillpattern": {
             "fillmode": "overlay",
             "size": 10,
             "solidity": 0.2
            },
            "type": "scatter"
           }
          ],
          "scatter3d": [
           {
            "line": {
             "colorbar": {
              "outlinewidth": 0,
              "ticks": ""
             }
            },
            "marker": {
             "colorbar": {
              "outlinewidth": 0,
              "ticks": ""
             }
            },
            "type": "scatter3d"
           }
          ],
          "scattercarpet": [
           {
            "marker": {
             "colorbar": {
              "outlinewidth": 0,
              "ticks": ""
             }
            },
            "type": "scattercarpet"
           }
          ],
          "scattergeo": [
           {
            "marker": {
             "colorbar": {
              "outlinewidth": 0,
              "ticks": ""
             }
            },
            "type": "scattergeo"
           }
          ],
          "scattergl": [
           {
            "marker": {
             "colorbar": {
              "outlinewidth": 0,
              "ticks": ""
             }
            },
            "type": "scattergl"
           }
          ],
          "scattermapbox": [
           {
            "marker": {
             "colorbar": {
              "outlinewidth": 0,
              "ticks": ""
             }
            },
            "type": "scattermapbox"
           }
          ],
          "scatterpolar": [
           {
            "marker": {
             "colorbar": {
              "outlinewidth": 0,
              "ticks": ""
             }
            },
            "type": "scatterpolar"
           }
          ],
          "scatterpolargl": [
           {
            "marker": {
             "colorbar": {
              "outlinewidth": 0,
              "ticks": ""
             }
            },
            "type": "scatterpolargl"
           }
          ],
          "scatterternary": [
           {
            "marker": {
             "colorbar": {
              "outlinewidth": 0,
              "ticks": ""
             }
            },
            "type": "scatterternary"
           }
          ],
          "surface": [
           {
            "colorbar": {
             "outlinewidth": 0,
             "ticks": ""
            },
            "colorscale": [
             [
              0,
              "#0d0887"
             ],
             [
              0.1111111111111111,
              "#46039f"
             ],
             [
              0.2222222222222222,
              "#7201a8"
             ],
             [
              0.3333333333333333,
              "#9c179e"
             ],
             [
              0.4444444444444444,
              "#bd3786"
             ],
             [
              0.5555555555555556,
              "#d8576b"
             ],
             [
              0.6666666666666666,
              "#ed7953"
             ],
             [
              0.7777777777777778,
              "#fb9f3a"
             ],
             [
              0.8888888888888888,
              "#fdca26"
             ],
             [
              1,
              "#f0f921"
             ]
            ],
            "type": "surface"
           }
          ],
          "table": [
           {
            "cells": {
             "fill": {
              "color": "#EBF0F8"
             },
             "line": {
              "color": "white"
             }
            },
            "header": {
             "fill": {
              "color": "#C8D4E3"
             },
             "line": {
              "color": "white"
             }
            },
            "type": "table"
           }
          ]
         },
         "layout": {
          "annotationdefaults": {
           "arrowcolor": "#2a3f5f",
           "arrowhead": 0,
           "arrowwidth": 1
          },
          "autotypenumbers": "strict",
          "coloraxis": {
           "colorbar": {
            "outlinewidth": 0,
            "ticks": ""
           }
          },
          "colorscale": {
           "diverging": [
            [
             0,
             "#8e0152"
            ],
            [
             0.1,
             "#c51b7d"
            ],
            [
             0.2,
             "#de77ae"
            ],
            [
             0.3,
             "#f1b6da"
            ],
            [
             0.4,
             "#fde0ef"
            ],
            [
             0.5,
             "#f7f7f7"
            ],
            [
             0.6,
             "#e6f5d0"
            ],
            [
             0.7,
             "#b8e186"
            ],
            [
             0.8,
             "#7fbc41"
            ],
            [
             0.9,
             "#4d9221"
            ],
            [
             1,
             "#276419"
            ]
           ],
           "sequential": [
            [
             0,
             "#0d0887"
            ],
            [
             0.1111111111111111,
             "#46039f"
            ],
            [
             0.2222222222222222,
             "#7201a8"
            ],
            [
             0.3333333333333333,
             "#9c179e"
            ],
            [
             0.4444444444444444,
             "#bd3786"
            ],
            [
             0.5555555555555556,
             "#d8576b"
            ],
            [
             0.6666666666666666,
             "#ed7953"
            ],
            [
             0.7777777777777778,
             "#fb9f3a"
            ],
            [
             0.8888888888888888,
             "#fdca26"
            ],
            [
             1,
             "#f0f921"
            ]
           ],
           "sequentialminus": [
            [
             0,
             "#0d0887"
            ],
            [
             0.1111111111111111,
             "#46039f"
            ],
            [
             0.2222222222222222,
             "#7201a8"
            ],
            [
             0.3333333333333333,
             "#9c179e"
            ],
            [
             0.4444444444444444,
             "#bd3786"
            ],
            [
             0.5555555555555556,
             "#d8576b"
            ],
            [
             0.6666666666666666,
             "#ed7953"
            ],
            [
             0.7777777777777778,
             "#fb9f3a"
            ],
            [
             0.8888888888888888,
             "#fdca26"
            ],
            [
             1,
             "#f0f921"
            ]
           ]
          },
          "colorway": [
           "#636efa",
           "#EF553B",
           "#00cc96",
           "#ab63fa",
           "#FFA15A",
           "#19d3f3",
           "#FF6692",
           "#B6E880",
           "#FF97FF",
           "#FECB52"
          ],
          "font": {
           "color": "#2a3f5f"
          },
          "geo": {
           "bgcolor": "white",
           "lakecolor": "white",
           "landcolor": "#E5ECF6",
           "showlakes": true,
           "showland": true,
           "subunitcolor": "white"
          },
          "hoverlabel": {
           "align": "left"
          },
          "hovermode": "closest",
          "mapbox": {
           "style": "light"
          },
          "paper_bgcolor": "white",
          "plot_bgcolor": "#E5ECF6",
          "polar": {
           "angularaxis": {
            "gridcolor": "white",
            "linecolor": "white",
            "ticks": ""
           },
           "bgcolor": "#E5ECF6",
           "radialaxis": {
            "gridcolor": "white",
            "linecolor": "white",
            "ticks": ""
           }
          },
          "scene": {
           "xaxis": {
            "backgroundcolor": "#E5ECF6",
            "gridcolor": "white",
            "gridwidth": 2,
            "linecolor": "white",
            "showbackground": true,
            "ticks": "",
            "zerolinecolor": "white"
           },
           "yaxis": {
            "backgroundcolor": "#E5ECF6",
            "gridcolor": "white",
            "gridwidth": 2,
            "linecolor": "white",
            "showbackground": true,
            "ticks": "",
            "zerolinecolor": "white"
           },
           "zaxis": {
            "backgroundcolor": "#E5ECF6",
            "gridcolor": "white",
            "gridwidth": 2,
            "linecolor": "white",
            "showbackground": true,
            "ticks": "",
            "zerolinecolor": "white"
           }
          },
          "shapedefaults": {
           "line": {
            "color": "#2a3f5f"
           }
          },
          "ternary": {
           "aaxis": {
            "gridcolor": "white",
            "linecolor": "white",
            "ticks": ""
           },
           "baxis": {
            "gridcolor": "white",
            "linecolor": "white",
            "ticks": ""
           },
           "bgcolor": "#E5ECF6",
           "caxis": {
            "gridcolor": "white",
            "linecolor": "white",
            "ticks": ""
           }
          },
          "title": {
           "x": 0.05
          },
          "xaxis": {
           "automargin": true,
           "gridcolor": "white",
           "linecolor": "white",
           "ticks": "",
           "title": {
            "standoff": 15
           },
           "zerolinecolor": "white",
           "zerolinewidth": 2
          },
          "yaxis": {
           "automargin": true,
           "gridcolor": "white",
           "linecolor": "white",
           "ticks": "",
           "title": {
            "standoff": 15
           },
           "zerolinecolor": "white",
           "zerolinewidth": 2
          }
         }
        },
        "title": {
         "text": "Education Level Distribution by Gender"
        },
        "xaxis": {
         "anchor": "y",
         "categoryarray": [
          "High School",
          "Bachelor's Degree",
          "Master's Degree",
          "Ph.D."
         ],
         "categoryorder": "array",
         "domain": [
          0,
          1
         ],
         "title": {
          "text": "Education Level"
         }
        },
        "yaxis": {
         "anchor": "x",
         "domain": [
          0,
          1
         ],
         "title": {
          "text": "Count"
         }
        }
       }
      }
     },
     "metadata": {},
     "output_type": "display_data"
    }
   ],
   "source": [
    "education_order = [\"High School\", \"Bachelor's Degree\", \"Master's Degree\", \"Ph.D.\"]\n",
    "fig = plx.bar(df, x=\"Education Level\", color=\"Gender\", \n",
    "             category_orders={\"Education Level\": education_order},\n",
    "             title=\"Education Level Distribution by Gender\")\n",
    "\n",
    "fig.update_layout(xaxis_title=\"Education Level\", yaxis_title=\"Count\")\n",
    "fig.show()\n"
   ]
  },
  {
   "cell_type": "code",
   "execution_count": 32,
   "metadata": {},
   "outputs": [
    {
     "data": {
      "application/vnd.plotly.v1+json": {
       "config": {
        "plotlyServerURL": "https://plot.ly"
       },
       "data": [
        {
         "alignmentgroup": "True",
         "hovertemplate": "Frequency of Usage=%{x}<br>count=%{y}<extra></extra>",
         "legendgroup": "",
         "marker": {
          "color": "#636efa",
          "pattern": {
           "shape": ""
          }
         },
         "name": "",
         "offsetgroup": "",
         "orientation": "v",
         "showlegend": false,
         "textposition": "auto",
         "type": "bar",
         "x": [
          "Weekly",
          "Monthly",
          "Daily",
          "Daily",
          "Monthly",
          "Monthly",
          "Monthly",
          "Daily",
          "Monthly",
          "Weekly",
          "Weekly",
          "Monthly",
          "Weekly",
          "Monthly",
          "Monthly",
          "Monthly",
          "Weekly",
          "Daily",
          "Daily",
          "Daily",
          "Weekly",
          "Weekly",
          "Daily",
          "Daily",
          "Monthly",
          "Monthly",
          "Monthly",
          "Daily",
          "Weekly",
          "Monthly",
          "Weekly",
          "Weekly",
          "Monthly",
          "Weekly",
          "Weekly",
          "Daily",
          "Monthly",
          "Weekly",
          "Weekly",
          "Daily",
          "Monthly",
          "Monthly",
          "Weekly",
          "Daily",
          "Weekly",
          "Daily",
          "Daily",
          "Weekly",
          "Daily",
          "Weekly",
          "Monthly",
          "Monthly",
          "Monthly",
          "Monthly",
          "Daily",
          "Daily",
          "Daily",
          "Daily",
          "Monthly",
          "Monthly",
          "Weekly",
          "Daily",
          "Weekly",
          "Monthly",
          "Monthly",
          "Daily",
          "Daily",
          "Weekly",
          "Monthly",
          "Daily",
          "Weekly",
          "Weekly",
          "Weekly",
          "Daily",
          "Daily",
          "Weekly",
          "Weekly",
          "Daily",
          "Daily",
          "Monthly",
          "Weekly",
          "Monthly",
          "Weekly",
          "Daily",
          "Monthly",
          "Monthly",
          "Weekly",
          "Daily",
          "Weekly",
          "Weekly",
          "Weekly",
          "Weekly",
          "Daily",
          "Weekly",
          "Daily",
          "Weekly",
          "Daily",
          "Daily",
          "Monthly",
          "Weekly",
          "Monthly",
          "Daily",
          "Monthly",
          "Daily",
          "Daily",
          "Monthly",
          "Monthly",
          "Monthly",
          "Daily",
          "Weekly",
          "Daily",
          "Monthly",
          "Daily",
          "Weekly",
          "Weekly",
          "Daily",
          "Monthly",
          "Weekly",
          "Weekly",
          "Daily",
          "Daily",
          "Monthly",
          "Daily",
          "Daily",
          "Daily",
          "Monthly",
          "Weekly",
          "Monthly",
          "Weekly",
          "Daily",
          "Weekly",
          "Daily",
          "Monthly",
          "Monthly",
          "Monthly",
          "Daily",
          "Weekly",
          "Weekly",
          "Weekly",
          "Monthly",
          "Daily",
          "Daily",
          "Weekly",
          "Daily",
          "Monthly",
          "Daily",
          "Daily",
          "Weekly",
          "Daily",
          "Weekly",
          "Weekly",
          "Weekly",
          "Monthly",
          "Daily",
          "Weekly",
          "Daily",
          "Daily",
          "Monthly",
          "Daily",
          "Daily",
          "Monthly",
          "Daily",
          "Monthly",
          "Daily",
          "Monthly",
          "Weekly",
          "Daily",
          "Daily",
          "Daily",
          "Daily",
          "Daily",
          "Weekly",
          "Monthly",
          "Daily",
          "Monthly",
          "Daily",
          "Weekly",
          "Weekly",
          "Daily",
          "Weekly",
          "Monthly",
          "Daily",
          "Daily",
          "Monthly",
          "Daily",
          "Monthly",
          "Daily",
          "Monthly",
          "Daily",
          "Monthly",
          "Weekly",
          "Monthly",
          "Daily",
          "Weekly",
          "Weekly",
          "Monthly",
          "Daily",
          "Monthly",
          "Daily",
          "Monthly",
          "Weekly",
          "Daily",
          "Weekly",
          "Daily",
          "Daily",
          "Weekly",
          "Daily",
          "Weekly",
          "Monthly",
          "Monthly",
          "Monthly",
          "Monthly",
          "Weekly",
          "Monthly",
          "Weekly",
          "Weekly",
          "Weekly",
          "Weekly",
          "Monthly",
          "Daily",
          "Monthly",
          "Monthly",
          "Weekly",
          "Daily",
          "Weekly",
          "Weekly",
          "Monthly",
          "Weekly",
          "Weekly",
          "Daily",
          "Weekly",
          "Weekly",
          "Weekly",
          "Weekly",
          "Monthly",
          "Weekly",
          "Weekly",
          "Monthly",
          "Daily",
          "Weekly",
          "Daily",
          "Weekly",
          "Daily",
          "Monthly",
          "Monthly",
          "Daily",
          "Daily",
          "Monthly",
          "Daily",
          "Weekly",
          "Daily",
          "Daily",
          "Daily",
          "Daily",
          "Monthly",
          "Weekly",
          "Monthly",
          "Monthly",
          "Weekly",
          "Daily",
          "Weekly",
          "Weekly",
          "Daily",
          "Monthly",
          "Weekly",
          "Daily",
          "Daily",
          "Weekly",
          "Weekly",
          "Monthly",
          "Weekly",
          "Daily",
          "Weekly",
          "Weekly",
          "Weekly",
          "Monthly",
          "Daily",
          "Daily",
          "Weekly",
          "Monthly",
          "Weekly",
          "Weekly",
          "Weekly",
          "Weekly",
          "Monthly",
          "Daily",
          "Daily",
          "Daily",
          "Weekly",
          "Weekly",
          "Weekly",
          "Daily",
          "Daily",
          "Daily",
          "Weekly",
          "Daily",
          "Daily",
          "Weekly",
          "Daily",
          "Daily",
          "Daily",
          "Daily",
          "Weekly",
          "Weekly",
          "Daily",
          "Daily",
          "Daily",
          "Monthly",
          "Weekly",
          "Weekly",
          "Daily",
          "Monthly",
          "Monthly",
          "Weekly",
          "Weekly",
          "Monthly",
          "Monthly",
          "Weekly",
          "Monthly",
          "Weekly",
          "Monthly",
          "Monthly",
          "Weekly",
          "Daily",
          "Weekly",
          "Monthly",
          "Monthly",
          "Daily",
          "Monthly",
          "Monthly",
          "Daily",
          "Weekly",
          "Daily",
          "Weekly",
          "Weekly",
          "Daily",
          "Daily",
          "Monthly",
          "Daily",
          "Daily",
          "Weekly",
          "Monthly",
          "Daily",
          "Weekly",
          "Daily",
          "Daily",
          "Daily",
          "Monthly",
          "Daily",
          "Monthly",
          "Monthly",
          "Weekly",
          "Daily",
          "Monthly",
          "Monthly",
          "Daily",
          "Daily",
          "Weekly",
          "Weekly",
          "Monthly",
          "Weekly",
          "Daily",
          "Daily",
          "Monthly",
          "Weekly",
          "Monthly",
          "Daily",
          "Monthly",
          "Daily",
          "Monthly",
          "Daily",
          "Monthly",
          "Monthly",
          "Monthly",
          "Monthly",
          "Monthly",
          "Weekly",
          "Daily",
          "Weekly",
          "Daily",
          "Weekly",
          "Monthly",
          "Monthly",
          "Daily",
          "Weekly",
          "Monthly",
          "Weekly",
          "Monthly",
          "Weekly",
          "Weekly",
          "Daily",
          "Monthly",
          "Daily",
          "Weekly",
          "Monthly",
          "Daily",
          "Weekly",
          "Daily",
          "Weekly",
          "Weekly",
          "Daily",
          "Weekly",
          "Weekly",
          "Daily",
          "Monthly",
          "Daily",
          "Monthly",
          "Daily",
          "Weekly",
          "Weekly",
          "Daily",
          "Daily",
          "Weekly",
          "Daily",
          "Weekly",
          "Daily",
          "Monthly",
          "Weekly",
          "Weekly",
          "Monthly",
          "Monthly",
          "Weekly",
          "Daily",
          "Monthly",
          "Weekly",
          "Weekly",
          "Weekly",
          "Daily",
          "Weekly",
          "Daily",
          "Weekly",
          "Monthly",
          "Monthly",
          "Weekly",
          "Daily",
          "Daily",
          "Daily",
          "Monthly",
          "Monthly",
          "Weekly",
          "Daily",
          "Daily",
          "Monthly",
          "Monthly",
          "Daily",
          "Monthly",
          "Daily",
          "Daily",
          "Daily",
          "Daily",
          "Weekly",
          "Weekly",
          "Monthly",
          "Daily",
          "Monthly",
          "Monthly",
          "Daily",
          "Daily",
          "Weekly",
          "Monthly",
          "Daily",
          "Daily",
          "Monthly",
          "Monthly",
          "Weekly",
          "Weekly",
          "Monthly",
          "Monthly",
          "Monthly",
          "Weekly",
          "Monthly",
          "Daily",
          "Weekly",
          "Weekly",
          "Weekly",
          "Weekly",
          "Weekly",
          "Weekly",
          "Monthly",
          "Monthly",
          "Daily",
          "Monthly",
          "Daily",
          "Daily",
          "Monthly",
          "Monthly",
          "Weekly",
          "Weekly",
          "Weekly",
          "Weekly",
          "Daily",
          "Monthly",
          "Daily",
          "Daily",
          "Daily",
          "Daily",
          "Daily",
          "Daily",
          "Monthly",
          "Monthly"
         ],
         "xaxis": "x",
         "y": [
          1,
          1,
          1,
          1,
          1,
          1,
          1,
          1,
          1,
          1,
          1,
          1,
          1,
          1,
          1,
          1,
          1,
          1,
          1,
          1,
          1,
          1,
          1,
          1,
          1,
          1,
          1,
          1,
          1,
          1,
          1,
          1,
          1,
          1,
          1,
          1,
          1,
          1,
          1,
          1,
          1,
          1,
          1,
          1,
          1,
          1,
          1,
          1,
          1,
          1,
          1,
          1,
          1,
          1,
          1,
          1,
          1,
          1,
          1,
          1,
          1,
          1,
          1,
          1,
          1,
          1,
          1,
          1,
          1,
          1,
          1,
          1,
          1,
          1,
          1,
          1,
          1,
          1,
          1,
          1,
          1,
          1,
          1,
          1,
          1,
          1,
          1,
          1,
          1,
          1,
          1,
          1,
          1,
          1,
          1,
          1,
          1,
          1,
          1,
          1,
          1,
          1,
          1,
          1,
          1,
          1,
          1,
          1,
          1,
          1,
          1,
          1,
          1,
          1,
          1,
          1,
          1,
          1,
          1,
          1,
          1,
          1,
          1,
          1,
          1,
          1,
          1,
          1,
          1,
          1,
          1,
          1,
          1,
          1,
          1,
          1,
          1,
          1,
          1,
          1,
          1,
          1,
          1,
          1,
          1,
          1,
          1,
          1,
          1,
          1,
          1,
          1,
          1,
          1,
          1,
          1,
          1,
          1,
          1,
          1,
          1,
          1,
          1,
          1,
          1,
          1,
          1,
          1,
          1,
          1,
          1,
          1,
          1,
          1,
          1,
          1,
          1,
          1,
          1,
          1,
          1,
          1,
          1,
          1,
          1,
          1,
          1,
          1,
          1,
          1,
          1,
          1,
          1,
          1,
          1,
          1,
          1,
          1,
          1,
          1,
          1,
          1,
          1,
          1,
          1,
          1,
          1,
          1,
          1,
          1,
          1,
          1,
          1,
          1,
          1,
          1,
          1,
          1,
          1,
          1,
          1,
          1,
          1,
          1,
          1,
          1,
          1,
          1,
          1,
          1,
          1,
          1,
          1,
          1,
          1,
          1,
          1,
          1,
          1,
          1,
          1,
          1,
          1,
          1,
          1,
          1,
          1,
          1,
          1,
          1,
          1,
          1,
          1,
          1,
          1,
          1,
          1,
          1,
          1,
          1,
          1,
          1,
          1,
          1,
          1,
          1,
          1,
          1,
          1,
          1,
          1,
          1,
          1,
          1,
          1,
          1,
          1,
          1,
          1,
          1,
          1,
          1,
          1,
          1,
          1,
          1,
          1,
          1,
          1,
          1,
          1,
          1,
          1,
          1,
          1,
          1,
          1,
          1,
          1,
          1,
          1,
          1,
          1,
          1,
          1,
          1,
          1,
          1,
          1,
          1,
          1,
          1,
          1,
          1,
          1,
          1,
          1,
          1,
          1,
          1,
          1,
          1,
          1,
          1,
          1,
          1,
          1,
          1,
          1,
          1,
          1,
          1,
          1,
          1,
          1,
          1,
          1,
          1,
          1,
          1,
          1,
          1,
          1,
          1,
          1,
          1,
          1,
          1,
          1,
          1,
          1,
          1,
          1,
          1,
          1,
          1,
          1,
          1,
          1,
          1,
          1,
          1,
          1,
          1,
          1,
          1,
          1,
          1,
          1,
          1,
          1,
          1,
          1,
          1,
          1,
          1,
          1,
          1,
          1,
          1,
          1,
          1,
          1,
          1,
          1,
          1,
          1,
          1,
          1,
          1,
          1,
          1,
          1,
          1,
          1,
          1,
          1,
          1,
          1,
          1,
          1,
          1,
          1,
          1,
          1,
          1,
          1,
          1,
          1,
          1,
          1,
          1,
          1,
          1,
          1,
          1,
          1,
          1,
          1,
          1,
          1,
          1,
          1,
          1,
          1,
          1,
          1,
          1,
          1,
          1,
          1,
          1,
          1,
          1,
          1,
          1,
          1,
          1,
          1,
          1,
          1,
          1,
          1,
          1,
          1,
          1,
          1,
          1,
          1,
          1,
          1,
          1,
          1,
          1,
          1,
          1,
          1,
          1,
          1,
          1,
          1,
          1,
          1,
          1,
          1,
          1,
          1,
          1,
          1,
          1,
          1,
          1,
          1,
          1,
          1,
          1,
          1,
          1,
          1,
          1,
          1,
          1,
          1,
          1,
          1,
          1,
          1,
          1,
          1,
          1,
          1,
          1,
          1,
          1,
          1,
          1,
          1,
          1,
          1,
          1
         ],
         "yaxis": "y"
        }
       ],
       "layout": {
        "barmode": "relative",
        "legend": {
         "tracegroupgap": 0
        },
        "template": {
         "data": {
          "bar": [
           {
            "error_x": {
             "color": "#2a3f5f"
            },
            "error_y": {
             "color": "#2a3f5f"
            },
            "marker": {
             "line": {
              "color": "#E5ECF6",
              "width": 0.5
             },
             "pattern": {
              "fillmode": "overlay",
              "size": 10,
              "solidity": 0.2
             }
            },
            "type": "bar"
           }
          ],
          "barpolar": [
           {
            "marker": {
             "line": {
              "color": "#E5ECF6",
              "width": 0.5
             },
             "pattern": {
              "fillmode": "overlay",
              "size": 10,
              "solidity": 0.2
             }
            },
            "type": "barpolar"
           }
          ],
          "carpet": [
           {
            "aaxis": {
             "endlinecolor": "#2a3f5f",
             "gridcolor": "white",
             "linecolor": "white",
             "minorgridcolor": "white",
             "startlinecolor": "#2a3f5f"
            },
            "baxis": {
             "endlinecolor": "#2a3f5f",
             "gridcolor": "white",
             "linecolor": "white",
             "minorgridcolor": "white",
             "startlinecolor": "#2a3f5f"
            },
            "type": "carpet"
           }
          ],
          "choropleth": [
           {
            "colorbar": {
             "outlinewidth": 0,
             "ticks": ""
            },
            "type": "choropleth"
           }
          ],
          "contour": [
           {
            "colorbar": {
             "outlinewidth": 0,
             "ticks": ""
            },
            "colorscale": [
             [
              0,
              "#0d0887"
             ],
             [
              0.1111111111111111,
              "#46039f"
             ],
             [
              0.2222222222222222,
              "#7201a8"
             ],
             [
              0.3333333333333333,
              "#9c179e"
             ],
             [
              0.4444444444444444,
              "#bd3786"
             ],
             [
              0.5555555555555556,
              "#d8576b"
             ],
             [
              0.6666666666666666,
              "#ed7953"
             ],
             [
              0.7777777777777778,
              "#fb9f3a"
             ],
             [
              0.8888888888888888,
              "#fdca26"
             ],
             [
              1,
              "#f0f921"
             ]
            ],
            "type": "contour"
           }
          ],
          "contourcarpet": [
           {
            "colorbar": {
             "outlinewidth": 0,
             "ticks": ""
            },
            "type": "contourcarpet"
           }
          ],
          "heatmap": [
           {
            "colorbar": {
             "outlinewidth": 0,
             "ticks": ""
            },
            "colorscale": [
             [
              0,
              "#0d0887"
             ],
             [
              0.1111111111111111,
              "#46039f"
             ],
             [
              0.2222222222222222,
              "#7201a8"
             ],
             [
              0.3333333333333333,
              "#9c179e"
             ],
             [
              0.4444444444444444,
              "#bd3786"
             ],
             [
              0.5555555555555556,
              "#d8576b"
             ],
             [
              0.6666666666666666,
              "#ed7953"
             ],
             [
              0.7777777777777778,
              "#fb9f3a"
             ],
             [
              0.8888888888888888,
              "#fdca26"
             ],
             [
              1,
              "#f0f921"
             ]
            ],
            "type": "heatmap"
           }
          ],
          "heatmapgl": [
           {
            "colorbar": {
             "outlinewidth": 0,
             "ticks": ""
            },
            "colorscale": [
             [
              0,
              "#0d0887"
             ],
             [
              0.1111111111111111,
              "#46039f"
             ],
             [
              0.2222222222222222,
              "#7201a8"
             ],
             [
              0.3333333333333333,
              "#9c179e"
             ],
             [
              0.4444444444444444,
              "#bd3786"
             ],
             [
              0.5555555555555556,
              "#d8576b"
             ],
             [
              0.6666666666666666,
              "#ed7953"
             ],
             [
              0.7777777777777778,
              "#fb9f3a"
             ],
             [
              0.8888888888888888,
              "#fdca26"
             ],
             [
              1,
              "#f0f921"
             ]
            ],
            "type": "heatmapgl"
           }
          ],
          "histogram": [
           {
            "marker": {
             "pattern": {
              "fillmode": "overlay",
              "size": 10,
              "solidity": 0.2
             }
            },
            "type": "histogram"
           }
          ],
          "histogram2d": [
           {
            "colorbar": {
             "outlinewidth": 0,
             "ticks": ""
            },
            "colorscale": [
             [
              0,
              "#0d0887"
             ],
             [
              0.1111111111111111,
              "#46039f"
             ],
             [
              0.2222222222222222,
              "#7201a8"
             ],
             [
              0.3333333333333333,
              "#9c179e"
             ],
             [
              0.4444444444444444,
              "#bd3786"
             ],
             [
              0.5555555555555556,
              "#d8576b"
             ],
             [
              0.6666666666666666,
              "#ed7953"
             ],
             [
              0.7777777777777778,
              "#fb9f3a"
             ],
             [
              0.8888888888888888,
              "#fdca26"
             ],
             [
              1,
              "#f0f921"
             ]
            ],
            "type": "histogram2d"
           }
          ],
          "histogram2dcontour": [
           {
            "colorbar": {
             "outlinewidth": 0,
             "ticks": ""
            },
            "colorscale": [
             [
              0,
              "#0d0887"
             ],
             [
              0.1111111111111111,
              "#46039f"
             ],
             [
              0.2222222222222222,
              "#7201a8"
             ],
             [
              0.3333333333333333,
              "#9c179e"
             ],
             [
              0.4444444444444444,
              "#bd3786"
             ],
             [
              0.5555555555555556,
              "#d8576b"
             ],
             [
              0.6666666666666666,
              "#ed7953"
             ],
             [
              0.7777777777777778,
              "#fb9f3a"
             ],
             [
              0.8888888888888888,
              "#fdca26"
             ],
             [
              1,
              "#f0f921"
             ]
            ],
            "type": "histogram2dcontour"
           }
          ],
          "mesh3d": [
           {
            "colorbar": {
             "outlinewidth": 0,
             "ticks": ""
            },
            "type": "mesh3d"
           }
          ],
          "parcoords": [
           {
            "line": {
             "colorbar": {
              "outlinewidth": 0,
              "ticks": ""
             }
            },
            "type": "parcoords"
           }
          ],
          "pie": [
           {
            "automargin": true,
            "type": "pie"
           }
          ],
          "scatter": [
           {
            "fillpattern": {
             "fillmode": "overlay",
             "size": 10,
             "solidity": 0.2
            },
            "type": "scatter"
           }
          ],
          "scatter3d": [
           {
            "line": {
             "colorbar": {
              "outlinewidth": 0,
              "ticks": ""
             }
            },
            "marker": {
             "colorbar": {
              "outlinewidth": 0,
              "ticks": ""
             }
            },
            "type": "scatter3d"
           }
          ],
          "scattercarpet": [
           {
            "marker": {
             "colorbar": {
              "outlinewidth": 0,
              "ticks": ""
             }
            },
            "type": "scattercarpet"
           }
          ],
          "scattergeo": [
           {
            "marker": {
             "colorbar": {
              "outlinewidth": 0,
              "ticks": ""
             }
            },
            "type": "scattergeo"
           }
          ],
          "scattergl": [
           {
            "marker": {
             "colorbar": {
              "outlinewidth": 0,
              "ticks": ""
             }
            },
            "type": "scattergl"
           }
          ],
          "scattermapbox": [
           {
            "marker": {
             "colorbar": {
              "outlinewidth": 0,
              "ticks": ""
             }
            },
            "type": "scattermapbox"
           }
          ],
          "scatterpolar": [
           {
            "marker": {
             "colorbar": {
              "outlinewidth": 0,
              "ticks": ""
             }
            },
            "type": "scatterpolar"
           }
          ],
          "scatterpolargl": [
           {
            "marker": {
             "colorbar": {
              "outlinewidth": 0,
              "ticks": ""
             }
            },
            "type": "scatterpolargl"
           }
          ],
          "scatterternary": [
           {
            "marker": {
             "colorbar": {
              "outlinewidth": 0,
              "ticks": ""
             }
            },
            "type": "scatterternary"
           }
          ],
          "surface": [
           {
            "colorbar": {
             "outlinewidth": 0,
             "ticks": ""
            },
            "colorscale": [
             [
              0,
              "#0d0887"
             ],
             [
              0.1111111111111111,
              "#46039f"
             ],
             [
              0.2222222222222222,
              "#7201a8"
             ],
             [
              0.3333333333333333,
              "#9c179e"
             ],
             [
              0.4444444444444444,
              "#bd3786"
             ],
             [
              0.5555555555555556,
              "#d8576b"
             ],
             [
              0.6666666666666666,
              "#ed7953"
             ],
             [
              0.7777777777777778,
              "#fb9f3a"
             ],
             [
              0.8888888888888888,
              "#fdca26"
             ],
             [
              1,
              "#f0f921"
             ]
            ],
            "type": "surface"
           }
          ],
          "table": [
           {
            "cells": {
             "fill": {
              "color": "#EBF0F8"
             },
             "line": {
              "color": "white"
             }
            },
            "header": {
             "fill": {
              "color": "#C8D4E3"
             },
             "line": {
              "color": "white"
             }
            },
            "type": "table"
           }
          ]
         },
         "layout": {
          "annotationdefaults": {
           "arrowcolor": "#2a3f5f",
           "arrowhead": 0,
           "arrowwidth": 1
          },
          "autotypenumbers": "strict",
          "coloraxis": {
           "colorbar": {
            "outlinewidth": 0,
            "ticks": ""
           }
          },
          "colorscale": {
           "diverging": [
            [
             0,
             "#8e0152"
            ],
            [
             0.1,
             "#c51b7d"
            ],
            [
             0.2,
             "#de77ae"
            ],
            [
             0.3,
             "#f1b6da"
            ],
            [
             0.4,
             "#fde0ef"
            ],
            [
             0.5,
             "#f7f7f7"
            ],
            [
             0.6,
             "#e6f5d0"
            ],
            [
             0.7,
             "#b8e186"
            ],
            [
             0.8,
             "#7fbc41"
            ],
            [
             0.9,
             "#4d9221"
            ],
            [
             1,
             "#276419"
            ]
           ],
           "sequential": [
            [
             0,
             "#0d0887"
            ],
            [
             0.1111111111111111,
             "#46039f"
            ],
            [
             0.2222222222222222,
             "#7201a8"
            ],
            [
             0.3333333333333333,
             "#9c179e"
            ],
            [
             0.4444444444444444,
             "#bd3786"
            ],
            [
             0.5555555555555556,
             "#d8576b"
            ],
            [
             0.6666666666666666,
             "#ed7953"
            ],
            [
             0.7777777777777778,
             "#fb9f3a"
            ],
            [
             0.8888888888888888,
             "#fdca26"
            ],
            [
             1,
             "#f0f921"
            ]
           ],
           "sequentialminus": [
            [
             0,
             "#0d0887"
            ],
            [
             0.1111111111111111,
             "#46039f"
            ],
            [
             0.2222222222222222,
             "#7201a8"
            ],
            [
             0.3333333333333333,
             "#9c179e"
            ],
            [
             0.4444444444444444,
             "#bd3786"
            ],
            [
             0.5555555555555556,
             "#d8576b"
            ],
            [
             0.6666666666666666,
             "#ed7953"
            ],
            [
             0.7777777777777778,
             "#fb9f3a"
            ],
            [
             0.8888888888888888,
             "#fdca26"
            ],
            [
             1,
             "#f0f921"
            ]
           ]
          },
          "colorway": [
           "#636efa",
           "#EF553B",
           "#00cc96",
           "#ab63fa",
           "#FFA15A",
           "#19d3f3",
           "#FF6692",
           "#B6E880",
           "#FF97FF",
           "#FECB52"
          ],
          "font": {
           "color": "#2a3f5f"
          },
          "geo": {
           "bgcolor": "white",
           "lakecolor": "white",
           "landcolor": "#E5ECF6",
           "showlakes": true,
           "showland": true,
           "subunitcolor": "white"
          },
          "hoverlabel": {
           "align": "left"
          },
          "hovermode": "closest",
          "mapbox": {
           "style": "light"
          },
          "paper_bgcolor": "white",
          "plot_bgcolor": "#E5ECF6",
          "polar": {
           "angularaxis": {
            "gridcolor": "white",
            "linecolor": "white",
            "ticks": ""
           },
           "bgcolor": "#E5ECF6",
           "radialaxis": {
            "gridcolor": "white",
            "linecolor": "white",
            "ticks": ""
           }
          },
          "scene": {
           "xaxis": {
            "backgroundcolor": "#E5ECF6",
            "gridcolor": "white",
            "gridwidth": 2,
            "linecolor": "white",
            "showbackground": true,
            "ticks": "",
            "zerolinecolor": "white"
           },
           "yaxis": {
            "backgroundcolor": "#E5ECF6",
            "gridcolor": "white",
            "gridwidth": 2,
            "linecolor": "white",
            "showbackground": true,
            "ticks": "",
            "zerolinecolor": "white"
           },
           "zaxis": {
            "backgroundcolor": "#E5ECF6",
            "gridcolor": "white",
            "gridwidth": 2,
            "linecolor": "white",
            "showbackground": true,
            "ticks": "",
            "zerolinecolor": "white"
           }
          },
          "shapedefaults": {
           "line": {
            "color": "#2a3f5f"
           }
          },
          "ternary": {
           "aaxis": {
            "gridcolor": "white",
            "linecolor": "white",
            "ticks": ""
           },
           "baxis": {
            "gridcolor": "white",
            "linecolor": "white",
            "ticks": ""
           },
           "bgcolor": "#E5ECF6",
           "caxis": {
            "gridcolor": "white",
            "linecolor": "white",
            "ticks": ""
           }
          },
          "title": {
           "x": 0.05
          },
          "xaxis": {
           "automargin": true,
           "gridcolor": "white",
           "linecolor": "white",
           "ticks": "",
           "title": {
            "standoff": 15
           },
           "zerolinecolor": "white",
           "zerolinewidth": 2
          },
          "yaxis": {
           "automargin": true,
           "gridcolor": "white",
           "linecolor": "white",
           "ticks": "",
           "title": {
            "standoff": 15
           },
           "zerolinecolor": "white",
           "zerolinewidth": 2
          }
         }
        },
        "title": {
         "text": "Frequency of App Usage Distribution"
        },
        "xaxis": {
         "anchor": "y",
         "domain": [
          0,
          1
         ],
         "title": {
          "text": "Frequency of Usage"
         }
        },
        "yaxis": {
         "anchor": "x",
         "domain": [
          0,
          1
         ],
         "title": {
          "text": "Count"
         }
        }
       }
      }
     },
     "metadata": {},
     "output_type": "display_data"
    }
   ],
   "source": [
    "fig = plx.bar(df, x=\"Frequency of Usage\", \n",
    "             title=\"Frequency of App Usage Distribution\")\n",
    "fig.update_layout(xaxis_title=\"Frequency of Usage\", \n",
    "                  yaxis_title=\"Count\")\n",
    "fig.show()"
   ]
  },
  {
   "cell_type": "markdown",
   "metadata": {},
   "source": [
    "Separate male and female profiles"
   ]
  },
  {
   "cell_type": "code",
   "execution_count": 28,
   "metadata": {},
   "outputs": [],
   "source": [
    "male_p = df[df['Gender'] == 'Male']\n",
    "female_p= df[df['Gender']== 'Female']"
   ]
  },
  {
   "cell_type": "markdown",
   "metadata": {},
   "source": [
    "Calculating match score"
   ]
  },
  {
   "cell_type": "code",
   "execution_count": 40,
   "metadata": {},
   "outputs": [
    {
     "name": "stdout",
     "output_type": "stream",
     "text": [
      "Match score between User 23 and User 12 : 9.19\n"
     ]
    }
   ],
   "source": [
    "def rel_Score(profile1,profile2):\n",
    "    #Interests\n",
    "    interest1= set(eval(profile1['Interests']))\n",
    "    interest2= set(eval(profile2['Interests']))\n",
    "    common_interest=len((interest1).intersection(interest2))\n",
    "    \n",
    "    #Age\n",
    "    age_score= max(0,10- abs(profile1['Age']-profile2['Age']))\n",
    "    \n",
    "    #swipping History\n",
    "    swiping_score = min(profile1['Swiping History'], profile2['Swiping History']) / 100\n",
    "    \n",
    "    #relationship status\n",
    "    relationship_score=0\n",
    "    if (profile1['Looking For']==profile2['Looking For']):\n",
    "        relationship_score=1\n",
    "        \n",
    "    Total_score=(common_interest + age_score + swiping_score + relationship_score)\n",
    "    return Total_score\n",
    "\n",
    "\n",
    "profile1= male_p.iloc[8]\n",
    "profile2= female_p.iloc[8]\n",
    "score= rel_Score(profile1,profile2)\n",
    "print(f\"Match score between User {profile1['User ID']} and User {profile2['User ID']} : {score}\")"
   ]
  },
  {
   "cell_type": "markdown",
   "metadata": {},
   "source": [
    "Recommending with use of score"
   ]
  },
  {
   "cell_type": "code",
   "execution_count": 46,
   "metadata": {},
   "outputs": [
    {
     "name": "stdout",
     "output_type": "stream",
     "text": [
      "Recommendation 1:\n",
      "Male Profile (User 36): Age 19, Interests ['Movies', 'Cooking', 'Hiking', 'Reading', 'Sports', 'Travel', 'Music']\n",
      "Female Profile (User 451): Age 19, Interests ['Reading', 'Music', 'Cooking', 'Hiking', 'Travel', 'Sports', 'Movies']\n",
      "Match Score: 18.79\n",
      "\n",
      "Recommendation 2:\n",
      "Male Profile (User 274): Age 29, Interests ['Reading', 'Movies', 'Travel', 'Music', 'Hiking', 'Cooking', 'Sports']\n",
      "Female Profile (User 300): Age 29, Interests ['Cooking', 'Reading', 'Music', 'Hiking', 'Travel', 'Sports', 'Movies']\n",
      "Match Score: 18.73\n",
      "\n",
      "Recommendation 3:\n",
      "Male Profile (User 456): Age 29, Interests ['Cooking', 'Hiking', 'Sports', 'Travel', 'Music', 'Movies', 'Reading']\n",
      "Female Profile (User 65): Age 29, Interests ['Travel', 'Movies', 'Reading', 'Sports', 'Music', 'Cooking', 'Hiking']\n",
      "Match Score: 18.69\n",
      "\n",
      "Recommendation 4:\n",
      "Male Profile (User 147): Age 34, Interests ['Reading', 'Travel', 'Movies', 'Hiking', 'Cooking', 'Music', 'Sports']\n",
      "Female Profile (User 287): Age 34, Interests ['Reading', 'Hiking', 'Cooking', 'Music', 'Movies', 'Travel', 'Sports']\n",
      "Match Score: 18.66\n",
      "\n",
      "Recommendation 5:\n",
      "Male Profile (User 321): Age 20, Interests ['Sports', 'Reading', 'Cooking', 'Travel', 'Movies', 'Hiking', 'Music']\n",
      "Female Profile (User 168): Age 20, Interests ['Cooking', 'Sports', 'Music', 'Reading', 'Travel', 'Hiking', 'Movies']\n",
      "Match Score: 18.58\n",
      "\n",
      "Recommendation 6:\n",
      "Male Profile (User 323): Age 30, Interests ['Hiking', 'Travel', 'Movies', 'Reading', 'Sports', 'Cooking', 'Music']\n",
      "Female Profile (User 497): Age 30, Interests ['Hiking', 'Reading', 'Travel', 'Sports', 'Music', 'Cooking', 'Movies']\n",
      "Match Score: 18.57\n",
      "\n",
      "Recommendation 7:\n",
      "Male Profile (User 181): Age 25, Interests ['Sports', 'Music', 'Hiking', 'Travel', 'Cooking', 'Movies', 'Reading']\n",
      "Female Profile (User 175): Age 25, Interests ['Sports', 'Music', 'Travel', 'Hiking', 'Movies', 'Reading', 'Cooking']\n",
      "Match Score: 18.34\n",
      "\n",
      "Recommendation 8:\n",
      "Male Profile (User 489): Age 33, Interests ['Travel', 'Hiking', 'Reading', 'Sports', 'Music', 'Movies', 'Cooking']\n",
      "Female Profile (User 99): Age 33, Interests ['Reading', 'Cooking', 'Sports', 'Hiking', 'Movies', 'Music', 'Travel']\n",
      "Match Score: 18.3\n",
      "\n",
      "Recommendation 9:\n",
      "Male Profile (User 280): Age 29, Interests ['Travel', 'Hiking', 'Music', 'Sports', 'Reading', 'Cooking', 'Movies']\n",
      "Female Profile (User 300): Age 29, Interests ['Cooking', 'Reading', 'Music', 'Hiking', 'Travel', 'Sports', 'Movies']\n",
      "Match Score: 18.29\n",
      "\n",
      "Recommendation 10:\n",
      "Male Profile (User 92): Age 22, Interests ['Music', 'Hiking', 'Cooking', 'Travel', 'Movies', 'Reading', 'Sports']\n",
      "Female Profile (User 205): Age 22, Interests ['Hiking', 'Movies', 'Reading', 'Travel', 'Sports', 'Cooking', 'Music']\n",
      "Match Score: 18.2\n",
      "\n"
     ]
    }
   ],
   "source": [
    "def recommend(male_p,female_p):\n",
    "    recommendation= []\n",
    "    for _ , male_profile in male_p.iterrows():\n",
    "        best_match=None\n",
    "        best_score=-1\n",
    "        \n",
    "        for _ , female_profile in female_p.iterrows():\n",
    "            sc=rel_Score(male_profile,female_profile)\n",
    "            \n",
    "            \n",
    "            if sc>best_score:\n",
    "                best_match=female_profile\n",
    "                best_score=sc\n",
    "        \n",
    "        \n",
    "        recommendation.append((male_profile, best_match, best_score))\n",
    "    \n",
    "    return recommendation\n",
    "\n",
    "\n",
    "recommendation = recommend(male_p, female_p)\n",
    "recommendation.sort(key=lambda x: x[2], reverse=True)\n",
    "\n",
    "for idx, (male_profile, female_profile, score) in enumerate(recommendation[:10]):\n",
    "    print(f\"Recommendation {idx + 1}:\")\n",
    "    print(f\"Male Profile (User {male_profile['User ID']}): Age {male_profile['Age']}, Interests {male_profile['Interests']}\")\n",
    "    print(f\"Female Profile (User {female_profile['User ID']}): Age {female_profile['Age']}, Interests {female_profile['Interests']}\")\n",
    "    print(f\"Match Score: {score}\")\n",
    "    print()"
   ]
  },
  {
   "cell_type": "code",
   "execution_count": null,
   "metadata": {},
   "outputs": [],
   "source": []
  }
 ],
 "metadata": {
  "kernelspec": {
   "display_name": "Python 3",
   "language": "python",
   "name": "python3"
  },
  "language_info": {
   "codemirror_mode": {
    "name": "ipython",
    "version": 3
   },
   "file_extension": ".py",
   "mimetype": "text/x-python",
   "name": "python",
   "nbconvert_exporter": "python",
   "pygments_lexer": "ipython3",
   "version": "3.11.3"
  }
 },
 "nbformat": 4,
 "nbformat_minor": 2
}
